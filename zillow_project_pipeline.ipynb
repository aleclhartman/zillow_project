{
 "cells": [
  {
   "cell_type": "markdown",
   "metadata": {},
   "source": [
    "\n",
    "# Predict Home Value of Zillow Listings"
   ]
  },
  {
   "cell_type": "markdown",
   "metadata": {},
   "source": [
    "**Alec Hartman**\n",
    "\n",
    "**April 13, 2020**"
   ]
  },
  {
   "cell_type": "markdown",
   "metadata": {},
   "source": [
    "## Goals\n",
    "1. Develop a model to predict home values using square feet, bedrooms, and bathrooms.\n",
    "2. Create a summary [presentation](https://docs.google.com/presentation/d/1ECtW4r91m_6WJGXTojXHFAnLWTK0KJ-z5euiXm5XgHI/edit?usp=sharing) describing the drivers of single unit property values.\n",
    "3. Plot distributions of tax rates for each county, and provide key measures of central tendency and measures of spread."
   ]
  },
  {
   "cell_type": "markdown",
   "metadata": {},
   "source": [
    "---\n",
    "### 1. Acquire + Preparation (aka Wrangling)"
   ]
  },
  {
   "cell_type": "code",
   "execution_count": 1,
   "metadata": {},
   "outputs": [],
   "source": [
    "import numpy as np\n",
    "import pandas as pd\n",
    "\n",
    "%matplotlib inline\n",
    "import matplotlib.pyplot as plt\n",
    "import seaborn as sns\n",
    "\n",
    "import math\n",
    "from scipy import stats\n",
    "from statsmodels.formula.api import ols\n",
    "\n",
    "import sklearn\n",
    "import sklearn.metrics\n",
    "import sklearn.linear_model\n",
    "import sklearn.feature_selection\n",
    "\n",
    "import wrangle as wr\n",
    "import split_scale as ss\n",
    "import explore as ex\n",
    "import evaluate as ev\n",
    "\n",
    "import warnings\n",
    "warnings.filterwarnings(\"ignore\")"
   ]
  },
  {
   "cell_type": "code",
   "execution_count": null,
   "metadata": {},
   "outputs": [],
   "source": [
    "df = wr.wrangle_zillow()\n",
    "df"
   ]
  },
  {
   "cell_type": "markdown",
   "metadata": {},
   "source": [
    "### Data Dictionary\n",
    "- **bathrooms**:\n",
    "    - The number of bathrooms in each home\n",
    "    - zillow SQL database field: properties_2017.bathroomcnt\n",
    "    - Homes with zero bathrooms were filtered out in my SQL query\n",
    "    - I chose this field to represent the number of bathrooms per home as it appears to be the most complete and appropriate field in the database\n",
    "- **bedrooms**:\n",
    "    - The number of bedrooms in each home\n",
    "    - zillow SQL database field: properties_2017.bedroomcnt\n",
    "    - Homes with zero bedrooms were filtered out in my SQL query\n",
    "    - I chose this field to represent the number of bedrooms per home as it appears to be the most complete and appropriate field in the database\n",
    "- **square_feet**:\n",
    "    - The square footage of each home\n",
    "    - zillow SQL database field: properties_2017.calculatedfinishedsquarefeet\n",
    "    - I chose this field to represent square footage per home as it appears to be the most complete and appropriate field in the database\n",
    "- **fips_code**:\n",
    "    - The Federal Information Processing System (FIPS) code for each home. Essentially, this is a state and county unique identifier established by the Federal Communications Commission (FCC)\n",
    "    - zillow SQL database field: properties_2017.fips\n",
    "    - I chose to use this field to index the county in which each home is located \n",
    "- **property_description**:\n",
    "    - The property description of each home\n",
    "    - zillow SQL database field: propertylandusetype.propertylandusedesc\n",
    "    - I filtered the data in my SQL query to include Single Family Residential properties only\n",
    "    - I chose to use and filter by this field as I interpreted the term \"single unit properties\" from the project specifications to mean Single Family Residential properties\n",
    "- **home_value**:\n",
    "    - The property's tax assessed value in 2017, presumably\n",
    "    - zillow SQL database field: properties_2017.taxvaluedollarcnt\n",
    "    - I used this field to represent home value as suggested in the project specifications\n",
    "- **tax_amount**:\n",
    "    - The amount of tax paid on each property in 2017, presumably\n",
    "    - zillow SQL database field: properties_2017.taxamount\n",
    "    - I used this field to represent tax amount and calculate the tax rate for each property\n",
    "- **tax_rate**:\n",
    "    - The tax rate for each property in 2017, presumably\n",
    "    - zillow SQL database fields: (properties_2017.taxamount/properties_2017.taxvaluedollarcnt) as tax_rate\n",
    "    - I used the fields above to calculate the tax rate for each property\n",
    "- **transaction_date**:\n",
    "    - The last transaction date for each property\n",
    "    - zillow SQL database field: predictions_2017.transactiondate\n",
    "    - I filtered the data in my SQL query to include only those homes whose last transaction date was in the \"hot months\" of May and June in terms of real estate demand as per the project specifications\n",
    "    - I chose to use and filter by this field as appears to be the most appropriate date field in the database\n",
    "- **county**:\n",
    "    - The county in which each property is located\n",
    "    - This field was indexed using the FIPS codes provided by the FCC as mentioned above. You can reference the website where this information was found by following this [link](https://transition.fcc.gov/oet/info/maps/census/fips/fips.txt).\n",
    "    - I chose to include this field in my DataFrame it will be used to plot the distribution of tax rates by county"
   ]
  },
  {
   "cell_type": "markdown",
   "metadata": {},
   "source": [
    "#### In which state and counties are these listing located?"
   ]
  },
  {
   "cell_type": "code",
   "execution_count": null,
   "metadata": {},
   "outputs": [],
   "source": [
    "df.county.unique()"
   ]
  },
  {
   "cell_type": "markdown",
   "metadata": {},
   "source": [
    "> All properties contained in the DataFrame above are in the California counties of Los Angeles, Orange, and Ventura."
   ]
  },
  {
   "cell_type": "markdown",
   "metadata": {},
   "source": [
    "#### Let's ensure our data is truly ready to analyze."
   ]
  },
  {
   "cell_type": "code",
   "execution_count": null,
   "metadata": {},
   "outputs": [],
   "source": [
    "assert (df.bathrooms == 0).sum() == 0, \"If you see an AssertionError, there are zero values in the bathrooms feature.\"\n",
    "assert (df.bedrooms == 0).sum() == 0, \"If you see an AssertionError, there are zero values in the bedrooms feature.\"\n",
    "assert (df.square_feet == 0).sum() == 0, \"If you see an AssertionError, there are zero values in the square_feet feature.\"\n",
    "assert (df.fips_code == 0).sum() == 0, \"If you see an AssertionError, there are zero values in the fips_code feature.\"\n",
    "assert (df.home_value == 0).sum() == 0, \"If you see an AssertionError, there are zero values in the tax_value feature.\"\n",
    "assert (df.tax_amount == 0).sum() == 0, \"If you see an AssertionError, there are zero values in the tax_amount feature.\"\n",
    "assert (df.tax_rate == 0).sum() == 0, \"If you see an AssertionError, there are zero values in the tax_rate feature.\""
   ]
  },
  {
   "cell_type": "code",
   "execution_count": null,
   "metadata": {
    "scrolled": true
   },
   "outputs": [],
   "source": [
    "df.isnull().sum()"
   ]
  },
  {
   "cell_type": "code",
   "execution_count": null,
   "metadata": {
    "scrolled": true
   },
   "outputs": [],
   "source": [
    "df.info()"
   ]
  },
  {
   "cell_type": "code",
   "execution_count": null,
   "metadata": {},
   "outputs": [],
   "source": [
    "df.describe()"
   ]
  },
  {
   "cell_type": "code",
   "execution_count": null,
   "metadata": {},
   "outputs": [],
   "source": [
    "train, test = ss.split_my_data(df)"
   ]
  },
  {
   "cell_type": "code",
   "execution_count": null,
   "metadata": {},
   "outputs": [],
   "source": [
    "train.head()"
   ]
  },
  {
   "cell_type": "code",
   "execution_count": null,
   "metadata": {},
   "outputs": [],
   "source": [
    "test.head()"
   ]
  },
  {
   "cell_type": "code",
   "execution_count": null,
   "metadata": {},
   "outputs": [],
   "source": [
    "train.shape[0] / df.shape[0]"
   ]
  },
  {
   "cell_type": "code",
   "execution_count": null,
   "metadata": {},
   "outputs": [],
   "source": [
    "test.shape[0] / df.shape[0]"
   ]
  },
  {
   "cell_type": "code",
   "execution_count": null,
   "metadata": {},
   "outputs": [],
   "source": [
    "train = train[[\"square_feet\", \"bedrooms\", \"bathrooms\", \"home_value\"]]\n",
    "test = test[[\"square_feet\", \"bedrooms\", \"bathrooms\", \"home_value\"]]"
   ]
  },
  {
   "cell_type": "code",
   "execution_count": null,
   "metadata": {},
   "outputs": [],
   "source": [
    "train.head()"
   ]
  },
  {
   "cell_type": "code",
   "execution_count": null,
   "metadata": {},
   "outputs": [],
   "source": [
    "test.head()"
   ]
  },
  {
   "cell_type": "markdown",
   "metadata": {},
   "source": [
    "---\n",
    "### 2. Explore"
   ]
  },
  {
   "cell_type": "markdown",
   "metadata": {},
   "source": [
    "#### Distribution of Tax Rates by County"
   ]
  },
  {
   "cell_type": "code",
   "execution_count": null,
   "metadata": {},
   "outputs": [],
   "source": [
    "for county in df.county.unique():\n",
    "    plt.figure(figsize=(16, 4))\n",
    "    plt.title(f\"Distribution of Tax Rates in {county} - mean: {df[df.county == county].tax_rate.mean():.3f}; median: {df[df.county == county].tax_rate.median():.3f}, std: {df[df.county == county].tax_rate.std():.3f}\")\n",
    "    sns.distplot(df[df.county == county].tax_rate)\n",
    "    plt.xlabel(\"Tax Rate\")\n",
    "    plt.xlim(0, 0.50)\n",
    "    plt.ylim(0, 400)\n",
    "    plt.show()"
   ]
  },
  {
   "cell_type": "markdown",
   "metadata": {},
   "source": [
    "#### Statistical Testing"
   ]
  },
  {
   "cell_type": "markdown",
   "metadata": {},
   "source": [
    "> Is the home value in Los Angeles County higher than the average home value? \n",
    "\n",
    "$H_0$: There is no difference in home value between homes located in Los Angeles County and the average home.\n",
    "\n",
    "$H_a$: There is a difference in home value between homes located in Los Angeles County and the average home."
   ]
  },
  {
   "cell_type": "code",
   "execution_count": null,
   "metadata": {},
   "outputs": [],
   "source": [
    "alpha = .01\n",
    "\n",
    "x = df[df.county == \"Los Angeles County\"].home_value\n",
    "mu = df.home_value.mean()\n",
    "\n",
    "t_stat, p = stats.ttest_1samp(x, mu)\n",
    "print(f\"t = {t_stat:.3}\")\n",
    "print(f\"p = {p:.3}\")\n",
    "\n",
    "if p < alpha:\n",
    "    print(\"Reject null hypothesis.\")\n",
    "else:\n",
    "    print(\"Fail to reject null hypothesis\")"
   ]
  },
  {
   "cell_type": "markdown",
   "metadata": {},
   "source": [
    "> Is the tax rate correlated with square feet? \n",
    "\n",
    "$H_0$: There is no linear relationship between tax rate and square feet.\n",
    "\n",
    "$H_a$: There is a linear relationship between tax rate and square feet."
   ]
  },
  {
   "cell_type": "code",
   "execution_count": null,
   "metadata": {},
   "outputs": [],
   "source": [
    "r, p = stats.pearsonr(df.tax_rate, df.square_feet)\n",
    "print(\"r =\", r)\n",
    "print(\"p =\", p)\n",
    "\n",
    "if p < alpha:\n",
    "    print(\"Reject null hypothesis.\")\n",
    "else:\n",
    "    print(\"Fail to reject null hypothesis\")"
   ]
  },
  {
   "cell_type": "code",
   "execution_count": null,
   "metadata": {},
   "outputs": [],
   "source": [
    "plt.figure(figsize=(16, 8))\n",
    "sns.heatmap(df.corr(), annot=True)\n",
    "plt.show()"
   ]
  },
  {
   "cell_type": "markdown",
   "metadata": {},
   "source": [
    "#### Plotting Variable Pairs of Train DataFrame"
   ]
  },
  {
   "cell_type": "code",
   "execution_count": null,
   "metadata": {},
   "outputs": [],
   "source": [
    "plt.figure(figsize=(16, 8))\n",
    "sns.pairplot(data=train, kind=\"reg\", plot_kws={\"line_kws\": {\"color\": sns.color_palette(\"colorblind\")[4]}})\n",
    "plt.show()"
   ]
  },
  {
   "cell_type": "markdown",
   "metadata": {},
   "source": [
    "> **Observations**:\n",
    ">    - square_feet and bathrooms have a strong, positive linear relationship\n",
    ">    - home_value and square_feet have a strong, positive linear relationship\n",
    ">    - home_value and bedrooms have a positive linear relationship\n",
    ">    - home_value and bathrooms have a positive linear relationship\n",
    ">    - bathrooms and bedrooms have a positive linear relationship"
   ]
  },
  {
   "cell_type": "markdown",
   "metadata": {},
   "source": [
    "---\n",
    "### 3. Model"
   ]
  },
  {
   "cell_type": "markdown",
   "metadata": {},
   "source": [
    "### Hypothesis\n",
    "\n",
    "$H_0$: Single unit property value is independent of square footage, number of bedrooms, and number of bathrooms\n",
    "\n",
    "$H_a$: Single unit property value is dependent on square footage, number of bedrooms, and number of bathrooms"
   ]
  },
  {
   "cell_type": "markdown",
   "metadata": {},
   "source": [
    "---\n",
    "#### Linear Regression Model"
   ]
  },
  {
   "cell_type": "code",
   "execution_count": null,
   "metadata": {},
   "outputs": [],
   "source": [
    "pd.options.display.float_format = '{:.3f}'.format"
   ]
  },
  {
   "cell_type": "code",
   "execution_count": null,
   "metadata": {},
   "outputs": [],
   "source": [
    "print(f\"Mean home_value = {train.home_value.mean():.2f}\")\n",
    "print(f\"Median home_value = {train.home_value.median():.2f}\")"
   ]
  },
  {
   "cell_type": "markdown",
   "metadata": {},
   "source": [
    "> I chose the median home_value of the train dataset to be my baseline because the mean is heavily influenced by outliers."
   ]
  },
  {
   "cell_type": "code",
   "execution_count": null,
   "metadata": {},
   "outputs": [],
   "source": [
    "predictions = pd.DataFrame({\n",
    "    \"actual_home_value\": train.home_value,\n",
    "    \"baseline_home_value\": train.home_value.median()\n",
    "})\n",
    "predictions.head()"
   ]
  },
  {
   "cell_type": "code",
   "execution_count": null,
   "metadata": {},
   "outputs": [],
   "source": [
    "train.shape"
   ]
  },
  {
   "cell_type": "code",
   "execution_count": null,
   "metadata": {
    "scrolled": false
   },
   "outputs": [],
   "source": [
    "# feature\n",
    "X = train[[\"square_feet\", \"bedrooms\", \"bathrooms\"]]\n",
    "# target\n",
    "y = train.home_value\n",
    "\n",
    "# 1. Make the model\n",
    "lm = sklearn.linear_model.LinearRegression()\n",
    "# 2. Fit the model\n",
    "lm.fit(X, y)\n",
    "# 3. Use the model\n",
    "predictions[\"home_value ~ square_feet + bedrooms + bathrooms\"] = lm.predict(X)\n",
    "predictions.head()"
   ]
  },
  {
   "cell_type": "code",
   "execution_count": null,
   "metadata": {
    "scrolled": false
   },
   "outputs": [],
   "source": [
    "plt.figure(figsize=(16, 8))\n",
    "ev.plot_residuals(predictions.actual_home_value, predictions[\"home_value ~ square_feet + bedrooms + bathrooms\"])\n",
    "plt.ticklabel_format(axis=\"both\", style=\"plain\")\n",
    "plt.show()"
   ]
  },
  {
   "cell_type": "code",
   "execution_count": null,
   "metadata": {},
   "outputs": [],
   "source": [
    "print(f\"\"\"The equation of our regression line is: \n",
    "y = ({lm.coef_[0]:.2f} * square_feet) + ({lm.coef_[1]:.2f} * bedrooms) + ({lm.coef_[-1]:.2f} * bathrooms) + {lm.intercept_:.2f}\"\"\")"
   ]
  },
  {
   "cell_type": "code",
   "execution_count": null,
   "metadata": {},
   "outputs": [],
   "source": [
    "ev.regression_errors(predictions.actual_home_value, predictions[\"home_value ~ square_feet + bedrooms + bathrooms\"], predictions)"
   ]
  },
  {
   "cell_type": "code",
   "execution_count": null,
   "metadata": {},
   "outputs": [],
   "source": [
    "predictions.apply(lambda c: math.sqrt(sklearn.metrics.mean_squared_error(predictions.actual_home_value, c)))"
   ]
  },
  {
   "cell_type": "code",
   "execution_count": null,
   "metadata": {},
   "outputs": [],
   "source": [
    "ev.better_than_baseline(predictions.actual_home_value, predictions[\"home_value ~ square_feet + bedrooms + bathrooms\"], predictions.baseline_home_value, predictions)"
   ]
  },
  {
   "cell_type": "code",
   "execution_count": null,
   "metadata": {},
   "outputs": [],
   "source": [
    "plt.figure(figsize=(16, 8))\n",
    "sns.regplot(x=predictions.actual_home_value, y=predictions[\"home_value ~ square_feet + bedrooms + bathrooms\"], data=predictions, label=\"home_value ~ square_feet + bedrooms + bedrooms\", line_kws={\"color\": sns.color_palette(\"colorblind\")[4]})\n",
    "plt.ticklabel_format(axis=\"both\", style=\"plain\")\n",
    "\n",
    "plt.title(\"Actual v. Predicted Home Value\")\n",
    "plt.xlabel(\"Actual\")\n",
    "plt.ylabel(\"Predicted\")\n",
    "plt.legend()\n",
    "\n",
    "plt.show()"
   ]
  },
  {
   "cell_type": "markdown",
   "metadata": {},
   "source": [
    "---\n",
    "### Let's test our Linear Regression model"
   ]
  },
  {
   "cell_type": "code",
   "execution_count": null,
   "metadata": {},
   "outputs": [],
   "source": [
    "X_test = test[[\"square_feet\", \"bedrooms\", \"bathrooms\"]]\n",
    "\n",
    "test[\"yhat\"] = lm.predict(X_test)\n",
    "test.head()"
   ]
  },
  {
   "cell_type": "code",
   "execution_count": null,
   "metadata": {
    "scrolled": true
   },
   "outputs": [],
   "source": [
    "ev.regression_errors(test.home_value, test.yhat, test)"
   ]
  },
  {
   "cell_type": "code",
   "execution_count": null,
   "metadata": {},
   "outputs": [],
   "source": [
    "test[\"yhat_baseline\"] = test.home_value.median()\n",
    "test.head()"
   ]
  },
  {
   "cell_type": "code",
   "execution_count": null,
   "metadata": {},
   "outputs": [],
   "source": [
    "ev.baseline_errors(test.home_value, test.yhat_baseline, test)"
   ]
  },
  {
   "cell_type": "code",
   "execution_count": null,
   "metadata": {},
   "outputs": [],
   "source": [
    "ev.better_than_baseline(test.home_value, test.yhat, test.yhat_baseline, test)"
   ]
  },
  {
   "cell_type": "code",
   "execution_count": null,
   "metadata": {},
   "outputs": [],
   "source": [
    "test.apply(lambda c: math.sqrt(sklearn.metrics.mean_squared_error(test.home_value, c)))[4:]"
   ]
  },
  {
   "cell_type": "code",
   "execution_count": null,
   "metadata": {
    "scrolled": true
   },
   "outputs": [],
   "source": [
    "print(f'Coefficient of determination, or explained variance: {sklearn.metrics.r2_score(test.home_value, test.yhat):.2f}')"
   ]
  },
  {
   "cell_type": "code",
   "execution_count": null,
   "metadata": {},
   "outputs": [],
   "source": [
    "sklearn.feature_selection.f_regression(test[[\"square_feet\", \"bedrooms\", \"bathrooms\"]], test.home_value)"
   ]
  },
  {
   "cell_type": "markdown",
   "metadata": {},
   "source": [
    "> My model is off on it's predictions of home_value by, on average, 600,863.73 dollars which is better than the baseline model by ~200,000 dollars.\n",
    "\n",
    "> 42% of the variance in home_value can be explained by the square_feet, bedrooms, and bathrooms in my model.\n",
    "\n",
    "> Reject null hypothesis, \"Single unit property value is independent of square footage, number of bedrooms, and number of bathrooms\""
   ]
  },
  {
   "cell_type": "code",
   "execution_count": null,
   "metadata": {},
   "outputs": [],
   "source": [
    "plt.figure(figsize=(16, 8))\n",
    "sns.regplot(x=test.home_value, y=test.yhat, data=test, label=\"home_value ~ square_feet + bedrooms + bathrooms\", line_kws={\"color\": sns.color_palette(\"colorblind\")[4]})\n",
    "plt.ticklabel_format(axis=\"both\", style=\"plain\")\n",
    "\n",
    "plt.title(\"Actual v. Predicted Home Value\")\n",
    "plt.xlabel(\"Actual\")\n",
    "plt.ylabel(\"Predicted\")\n",
    "plt.legend()\n",
    "\n",
    "plt.show()"
   ]
  },
  {
   "cell_type": "markdown",
   "metadata": {},
   "source": [
    "---\n",
    "#### Using ols to Compare Findings with sklearn "
   ]
  },
  {
   "cell_type": "code",
   "execution_count": null,
   "metadata": {},
   "outputs": [],
   "source": [
    "model = ols(\"home_value ~ square_feet + bedrooms + bathrooms\", test).fit()"
   ]
  },
  {
   "cell_type": "code",
   "execution_count": null,
   "metadata": {},
   "outputs": [],
   "source": [
    "actual = test.home_value\n",
    "predicted = model.predict()"
   ]
  },
  {
   "cell_type": "code",
   "execution_count": null,
   "metadata": {
    "scrolled": true
   },
   "outputs": [],
   "source": [
    "ev.model_significance(model)"
   ]
  },
  {
   "cell_type": "code",
   "execution_count": null,
   "metadata": {},
   "outputs": [],
   "source": [
    "model.summary()"
   ]
  },
  {
   "cell_type": "markdown",
   "metadata": {},
   "source": [
    "---\n",
    "### Additional Models"
   ]
  },
  {
   "cell_type": "code",
   "execution_count": null,
   "metadata": {},
   "outputs": [],
   "source": [
    "# feature\n",
    "X = train[[\"square_feet\"]]\n",
    "# target\n",
    "y = train.home_value\n",
    "\n",
    "# 1. Make the model\n",
    "lm = sklearn.linear_model.LinearRegression()\n",
    "# 2. Fit the model\n",
    "lm.fit(X, y)\n",
    "# 3. Use the model\n",
    "predictions[\"home_value ~ square_feet\"] = lm.predict(X)\n",
    "predictions.head()"
   ]
  },
  {
   "cell_type": "code",
   "execution_count": null,
   "metadata": {
    "scrolled": false
   },
   "outputs": [],
   "source": [
    "plt.figure(figsize=(16, 8))\n",
    "ev.plot_residuals(predictions.actual_home_value, predictions[\"home_value ~ square_feet\"])\n",
    "plt.ticklabel_format(axis=\"both\", style=\"plain\")\n",
    "plt.show()"
   ]
  },
  {
   "cell_type": "code",
   "execution_count": null,
   "metadata": {},
   "outputs": [],
   "source": [
    "ev.regression_errors(predictions.actual_home_value, predictions[\"home_value ~ square_feet\"], predictions)"
   ]
  },
  {
   "cell_type": "code",
   "execution_count": null,
   "metadata": {},
   "outputs": [],
   "source": [
    "ev.baseline_errors(predictions.actual_home_value, predictions.baseline_home_value, predictions)"
   ]
  },
  {
   "cell_type": "code",
   "execution_count": null,
   "metadata": {},
   "outputs": [],
   "source": [
    "ev.better_than_baseline(predictions.actual_home_value, predictions[\"home_value ~ square_feet\"], predictions.baseline_home_value, predictions)"
   ]
  },
  {
   "cell_type": "code",
   "execution_count": null,
   "metadata": {},
   "outputs": [],
   "source": [
    "predictions.apply(lambda c: math.sqrt(sklearn.metrics.mean_squared_error(predictions.actual_home_value, c)))"
   ]
  },
  {
   "cell_type": "code",
   "execution_count": null,
   "metadata": {},
   "outputs": [],
   "source": [
    "plt.figure(figsize=(16, 8))\n",
    "sns.scatterplot(x=predictions.actual_home_value, y=predictions[\"home_value ~ square_feet\"], label=\"home_value ~ square_feet\")\n",
    "plt.ticklabel_format(axis=\"both\", style=\"plain\")\n",
    "plt.show()"
   ]
  },
  {
   "cell_type": "markdown",
   "metadata": {},
   "source": [
    "---"
   ]
  },
  {
   "cell_type": "code",
   "execution_count": null,
   "metadata": {},
   "outputs": [],
   "source": [
    "# feature\n",
    "X = train[[\"bedrooms\"]]\n",
    "# target\n",
    "y = train.home_value\n",
    "\n",
    "# 1. Make the model\n",
    "lm = sklearn.linear_model.LinearRegression()\n",
    "# 2. Fit the model\n",
    "lm.fit(X, y)\n",
    "# 3. Use the model\n",
    "predictions[\"home_value ~ bedrooms\"] = lm.predict(X)\n",
    "predictions.head()"
   ]
  },
  {
   "cell_type": "code",
   "execution_count": null,
   "metadata": {},
   "outputs": [],
   "source": [
    "plt.figure(figsize=(16, 8))\n",
    "ev.plot_residuals(predictions.actual_home_value, predictions[\"home_value ~ bedrooms\"])\n",
    "plt.ticklabel_format(axis=\"both\", style=\"plain\")\n",
    "plt.show()"
   ]
  },
  {
   "cell_type": "code",
   "execution_count": null,
   "metadata": {},
   "outputs": [],
   "source": [
    "ev.regression_errors(predictions.actual_home_value, predictions[\"home_value ~ bedrooms\"], predictions)"
   ]
  },
  {
   "cell_type": "code",
   "execution_count": null,
   "metadata": {},
   "outputs": [],
   "source": [
    "ev.better_than_baseline(predictions.actual_home_value, predictions[\"home_value ~ bedrooms\"], predictions.baseline_home_value, predictions)"
   ]
  },
  {
   "cell_type": "code",
   "execution_count": null,
   "metadata": {},
   "outputs": [],
   "source": [
    "predictions.apply(lambda c: math.sqrt(sklearn.metrics.mean_squared_error(predictions.actual_home_value, c)))"
   ]
  },
  {
   "cell_type": "markdown",
   "metadata": {},
   "source": [
    "---"
   ]
  },
  {
   "cell_type": "code",
   "execution_count": null,
   "metadata": {
    "scrolled": false
   },
   "outputs": [],
   "source": [
    "# feature\n",
    "X = train[[\"bathrooms\"]]\n",
    "# target\n",
    "y = train.home_value\n",
    "\n",
    "# 1. Make the model\n",
    "lm = sklearn.linear_model.LinearRegression()\n",
    "# 2. Fit the model\n",
    "lm.fit(X, y)\n",
    "# 3. Use the model\n",
    "predictions[\"home_value ~ bathrooms\"] = lm.predict(X)\n",
    "predictions.head()"
   ]
  },
  {
   "cell_type": "code",
   "execution_count": null,
   "metadata": {},
   "outputs": [],
   "source": [
    "plt.figure(figsize=(16, 8))\n",
    "ev.plot_residuals(predictions.actual_home_value, predictions[\"home_value ~ bathrooms\"])\n",
    "plt.ticklabel_format(axis=\"both\", style=\"plain\")\n",
    "plt.show()"
   ]
  },
  {
   "cell_type": "code",
   "execution_count": null,
   "metadata": {},
   "outputs": [],
   "source": [
    "ev.regression_errors(predictions.actual_home_value, predictions[\"home_value ~ bathrooms\"], predictions)"
   ]
  },
  {
   "cell_type": "code",
   "execution_count": null,
   "metadata": {},
   "outputs": [],
   "source": [
    "ev.better_than_baseline(predictions.actual_home_value, predictions[\"home_value ~ bathrooms\"], predictions.baseline_home_value, predictions)"
   ]
  },
  {
   "cell_type": "code",
   "execution_count": null,
   "metadata": {},
   "outputs": [],
   "source": [
    "predictions.apply(lambda c: math.sqrt(sklearn.metrics.mean_squared_error(predictions.actual_home_value, c)))"
   ]
  },
  {
   "cell_type": "markdown",
   "metadata": {},
   "source": [
    "> home_value ~ square_feet + bedrooms + bathrooms is still the best model"
   ]
  },
  {
   "cell_type": "code",
   "execution_count": null,
   "metadata": {},
   "outputs": [],
   "source": []
  }
 ],
 "metadata": {
  "kernelspec": {
   "display_name": "Python 3",
   "language": "python",
   "name": "python3"
  },
  "language_info": {
   "codemirror_mode": {
    "name": "ipython",
    "version": 3
   },
   "file_extension": ".py",
   "mimetype": "text/x-python",
   "name": "python",
   "nbconvert_exporter": "python",
   "pygments_lexer": "ipython3",
   "version": "3.7.4"
  }
 },
 "nbformat": 4,
 "nbformat_minor": 2
}
