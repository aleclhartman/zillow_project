{
 "cells": [
  {
   "cell_type": "markdown",
   "metadata": {},
   "source": [
    "# Predict Home Value of Zillow Listings"
   ]
  },
  {
   "cell_type": "code",
   "execution_count": 1,
   "metadata": {},
   "outputs": [],
   "source": [
    "import numpy as np\n",
    "import pandas as pd\n",
    "\n",
    "%matplotlib inline\n",
    "import matplotlib.pyplot as plt\n",
    "import seaborn as sns\n",
    "\n",
    "import math\n",
    "from scipy import stats\n",
    "\n",
    "import sklearn\n",
    "import sklearn.metrics\n",
    "import sklearn.linear_model\n",
    "\n",
    "import wrangle as wr\n",
    "import split_scale as ss\n",
    "import explore as ex\n",
    "import evaluate as ev\n",
    "\n",
    "import warnings\n",
    "warnings.filterwarnings(\"ignore\")"
   ]
  },
  {
   "cell_type": "code",
   "execution_count": 2,
   "metadata": {},
   "outputs": [],
   "source": [
    "# properties_query = \"\"\"\n",
    "# SELECT id, parcelid, bathroomcnt, bedroomcnt, calculatedfinishedsquarefeet, fips, unitcnt, taxvaluedollarcnt, taxamount, (taxamount/taxvaluedollarcnt) as tax_rate\n",
    "# FROM properties_2017\n",
    "# WHERE unitcnt = 1;\n",
    "# \"\"\""
   ]
  },
  {
   "cell_type": "code",
   "execution_count": 3,
   "metadata": {},
   "outputs": [],
   "source": [
    "# properties = pd.read_sql(properties_query, url)\n",
    "# properties"
   ]
  },
  {
   "cell_type": "code",
   "execution_count": 4,
   "metadata": {},
   "outputs": [],
   "source": [
    "# predictions_query = \"\"\"\n",
    "# SELECT parcelid, MAX(transactiondate) as last_transaction_date\n",
    "# FROM predictions_2017\n",
    "# WHERE transactiondate >= \"2017-05-01\"\n",
    "# AND transactiondate <= \"2017-06-30\"\n",
    "# GROUP BY parcelid\n",
    "# ORDER BY last_transaction_date;\n",
    "# \"\"\""
   ]
  },
  {
   "cell_type": "code",
   "execution_count": 5,
   "metadata": {},
   "outputs": [],
   "source": [
    "# predictions = pd.read_sql(predictions_query, url)\n",
    "# predictions"
   ]
  },
  {
   "cell_type": "code",
   "execution_count": 6,
   "metadata": {},
   "outputs": [],
   "source": [
    "# joined_query = \"\"\"\n",
    "# SELECT prop.id, prop.parcelid, prop.bathroomcnt, prop.bedroomcnt, prop.calculatedfinishedsquarefeet, prop.fips, prop.unitcnt, prop.taxvaluedollarcnt, prop.taxamount, (prop.taxamount/prop.taxvaluedollarcnt) as taxrate, pred.transactiondate\n",
    "# FROM properties_2017 as prop\n",
    "# JOIN predictions_2017 as pred USING(parcelid)\n",
    "# WHERE prop.unitcnt = 1\n",
    "# AND pred.transactiondate >= \"2017-05-01\"\n",
    "# AND pred.transactiondate <= \"2017-06-30\"\n",
    "# ORDER BY pred.transactiondate;\n",
    "# \"\"\""
   ]
  },
  {
   "cell_type": "code",
   "execution_count": 7,
   "metadata": {},
   "outputs": [],
   "source": [
    "# joined = pd.read_sql(joined_query, url)\n",
    "# joined"
   ]
  },
  {
   "cell_type": "code",
   "execution_count": 8,
   "metadata": {},
   "outputs": [],
   "source": [
    "# alternate_joined_query = \"\"\"SELECT prop.id, prop.parcelid, prop.bathroomcnt, prop.bedroomcnt, prop.calculatedfinishedsquarefeet, prop.fips, prop.propertylandusetypeid, prop.unitcnt, prop.taxvaluedollarcnt, prop.taxamount, (prop.taxamount/prop.taxvaluedollarcnt) as tax_rate, pred.transactiondate\n",
    "# FROM properties_2017 as prop\n",
    "# JOIN predictions_2017 as pred USING(parcelid)\n",
    "# WHERE prop.propertylandusetypeid = 261;\n",
    "# \"\"\""
   ]
  },
  {
   "cell_type": "code",
   "execution_count": 9,
   "metadata": {},
   "outputs": [],
   "source": [
    "# alt_joined = pd.read_sql(alternate_joined_query, url)\n",
    "# alt_joined"
   ]
  },
  {
   "cell_type": "code",
   "execution_count": 10,
   "metadata": {},
   "outputs": [],
   "source": [
    "# new_query = \"\"\"SELECT prop.id, prop.parcelid, prop.bathroomcnt, prop.bedroomcnt, prop.calculatedfinishedsquarefeet, prop.fips, prop.propertylandusetypeid, plut.propertylandusedesc, prop.unitcnt, prop.taxvaluedollarcnt, prop.taxamount, (prop.taxamount/prop.taxvaluedollarcnt) as tax_rate, pred.transactiondate\n",
    "# FROM properties_2017 as prop\n",
    "# JOIN predictions_2017 as pred USING(parcelid)\n",
    "# JOIN propertylandusetype as plut USING(propertylandusetypeid)\n",
    "# WHERE prop.propertylandusetypeid = 261\n",
    "# AND pred.transactiondate >= \"2017-05-01\"\n",
    "# AND pred.transactiondate <= \"2017-06-30\"\n",
    "# ORDER BY pred.transactiondate;\n",
    "# \"\"\""
   ]
  },
  {
   "cell_type": "code",
   "execution_count": 11,
   "metadata": {},
   "outputs": [],
   "source": [
    "# new_df = pd.read_sql(new_query, url)\n",
    "# new_df"
   ]
  },
  {
   "cell_type": "markdown",
   "metadata": {},
   "source": [
    "---"
   ]
  },
  {
   "cell_type": "code",
   "execution_count": 12,
   "metadata": {},
   "outputs": [],
   "source": [
    "# url = env.get_db_url(\"zillow\")"
   ]
  },
  {
   "cell_type": "code",
   "execution_count": 13,
   "metadata": {},
   "outputs": [],
   "source": [
    "# zillow_query = \"\"\"SELECT prop.bathroomcnt, prop.bedroomcnt, prop.calculatedfinishedsquarefeet, prop.fips, plut.propertylandusedesc, prop.taxvaluedollarcnt, prop.taxamount, (prop.taxamount/prop.taxvaluedollarcnt) as tax_rate, pred.transactiondate\n",
    "# FROM properties_2017 as prop\n",
    "# JOIN predictions_2017 as pred USING(parcelid)\n",
    "# JOIN propertylandusetype as plut USING(propertylandusetypeid)\n",
    "# WHERE prop.propertylandusetypeid = 261\n",
    "# AND pred.transactiondate >= \"2017-05-01\"\n",
    "# AND pred.transactiondate <= \"2017-06-30\"\n",
    "# ORDER BY pred.transactiondate;\n",
    "# \"\"\""
   ]
  },
  {
   "cell_type": "code",
   "execution_count": 14,
   "metadata": {},
   "outputs": [],
   "source": [
    "# df = pd.read_sql(zillow_query, url)\n",
    "# df"
   ]
  },
  {
   "cell_type": "code",
   "execution_count": 15,
   "metadata": {},
   "outputs": [],
   "source": [
    "# df[\"fips\"] = df[\"fips\"].astype(\"int\")"
   ]
  },
  {
   "cell_type": "code",
   "execution_count": 16,
   "metadata": {},
   "outputs": [],
   "source": [
    "# df.info()"
   ]
  },
  {
   "cell_type": "code",
   "execution_count": 17,
   "metadata": {},
   "outputs": [],
   "source": [
    "# df"
   ]
  },
  {
   "cell_type": "code",
   "execution_count": 18,
   "metadata": {},
   "outputs": [],
   "source": [
    "# df.fips.value_counts()"
   ]
  },
  {
   "cell_type": "code",
   "execution_count": 19,
   "metadata": {},
   "outputs": [],
   "source": [
    "# df[\"county\"] = df[\"fips\"].map({6037: \"Los Angeles County\", 6059: \"Orange County\", 6111: \"Ventura County\"})\n",
    "# df"
   ]
  },
  {
   "cell_type": "code",
   "execution_count": 20,
   "metadata": {},
   "outputs": [],
   "source": [
    "# df.to_csv(\"zillow_data\")"
   ]
  },
  {
   "cell_type": "code",
   "execution_count": 21,
   "metadata": {},
   "outputs": [],
   "source": [
    "# df = pd.merge(final_df, california_fips, left_on=\"fips\", right_on=\"06000\", how=\"left\")\n",
    "# df"
   ]
  },
  {
   "cell_type": "code",
   "execution_count": 22,
   "metadata": {},
   "outputs": [],
   "source": [
    "# df.California.value_counts()"
   ]
  },
  {
   "cell_type": "code",
   "execution_count": 23,
   "metadata": {},
   "outputs": [],
   "source": [
    "# df.propertylandusedesc.value_counts()"
   ]
  },
  {
   "cell_type": "code",
   "execution_count": 24,
   "metadata": {},
   "outputs": [],
   "source": [
    "# df.drop(columns=\"06000\", inplace=True)\n",
    "# df"
   ]
  },
  {
   "cell_type": "code",
   "execution_count": 25,
   "metadata": {},
   "outputs": [],
   "source": [
    "# df.rename(columns={\"bathroomcnt\": \"bathrooms\", \"bedroomcnt\": \"bedrooms\", \"calculatedfinishedsquarefeet\": \"square_feet\", \"fips\": \"fips_code\", \"propertylandusedesc\": \"property_description\", \"taxvaluedollarcnt\": \"tax_value\", \"taxamount\": \"tax_amount\", \"transactiondate\": \"transaction_date\", \"California\": \"county\"}, inplace=True)"
   ]
  },
  {
   "cell_type": "code",
   "execution_count": 26,
   "metadata": {},
   "outputs": [],
   "source": [
    "# df"
   ]
  },
  {
   "cell_type": "code",
   "execution_count": 27,
   "metadata": {},
   "outputs": [],
   "source": [
    "# df = df.dropna()"
   ]
  },
  {
   "cell_type": "code",
   "execution_count": 28,
   "metadata": {},
   "outputs": [],
   "source": [
    "# df.info()"
   ]
  },
  {
   "cell_type": "code",
   "execution_count": 29,
   "metadata": {
    "scrolled": true
   },
   "outputs": [],
   "source": [
    "# df.describe()"
   ]
  },
  {
   "cell_type": "code",
   "execution_count": 30,
   "metadata": {},
   "outputs": [],
   "source": [
    "# california_fips = pd.read_csv(\"california_fips.csv\")\n",
    "# california_fips.drop(columns=\"Unnamed: 0\", inplace=True)\n",
    "# california_fips.head()"
   ]
  },
  {
   "cell_type": "code",
   "execution_count": 31,
   "metadata": {},
   "outputs": [],
   "source": [
    "# def wrangle_zillow():\n",
    "#     df = pd.read_sql(zillow_query, url)\n",
    "#     california_fips = pd.read_csv(\"california_fips.csv\")\n",
    "#     california_fips.drop(columns=\"Unnamed: 0\", inplace=True)\n",
    "#     df = pd.merge(final_df, california_fips, left_on=\"fips\", right_on=\"06000\", how=\"left\")\n",
    "#     df.drop(columns=\"06000\", inplace=True)\n",
    "#     df.rename(columns={\"bathroomcnt\": \"bathrooms\", \"bedroomcnt\": \"bedrooms\", \"calculatedfinishedsquarefeet\": \"square_feet\", \"fips\": \"fips_code\", \"propertylandusedesc\": \"property_description\", \"taxvaluedollarcnt\": \"tax_value\", \"taxamount\": \"tax_amount\", \"transactiondate\": \"transaction_date\", \"California\": \"county\"}, inplace=True)\n",
    "#     df = df.dropna()\n",
    "#     return df"
   ]
  },
  {
   "cell_type": "code",
   "execution_count": 32,
   "metadata": {},
   "outputs": [
    {
     "data": {
      "text/html": [
       "<div>\n",
       "<style scoped>\n",
       "    .dataframe tbody tr th:only-of-type {\n",
       "        vertical-align: middle;\n",
       "    }\n",
       "\n",
       "    .dataframe tbody tr th {\n",
       "        vertical-align: top;\n",
       "    }\n",
       "\n",
       "    .dataframe thead th {\n",
       "        text-align: right;\n",
       "    }\n",
       "</style>\n",
       "<table border=\"1\" class=\"dataframe\">\n",
       "  <thead>\n",
       "    <tr style=\"text-align: right;\">\n",
       "      <th></th>\n",
       "      <th>bathrooms</th>\n",
       "      <th>bedrooms</th>\n",
       "      <th>square_feet</th>\n",
       "      <th>fips_code</th>\n",
       "      <th>property_description</th>\n",
       "      <th>home_value</th>\n",
       "      <th>tax_amount</th>\n",
       "      <th>tax_rate</th>\n",
       "      <th>transaction_date</th>\n",
       "      <th>county</th>\n",
       "    </tr>\n",
       "  </thead>\n",
       "  <tbody>\n",
       "    <tr>\n",
       "      <th>0</th>\n",
       "      <td>2.5</td>\n",
       "      <td>3.0</td>\n",
       "      <td>1653.0</td>\n",
       "      <td>6059</td>\n",
       "      <td>Single Family Residential</td>\n",
       "      <td>605000.0</td>\n",
       "      <td>6185.28</td>\n",
       "      <td>0.010224</td>\n",
       "      <td>2017-05-01</td>\n",
       "      <td>Orange County</td>\n",
       "    </tr>\n",
       "    <tr>\n",
       "      <th>1</th>\n",
       "      <td>3.0</td>\n",
       "      <td>3.0</td>\n",
       "      <td>1572.0</td>\n",
       "      <td>6037</td>\n",
       "      <td>Single Family Residential</td>\n",
       "      <td>404060.0</td>\n",
       "      <td>4934.43</td>\n",
       "      <td>0.012212</td>\n",
       "      <td>2017-05-01</td>\n",
       "      <td>Los Angeles County</td>\n",
       "    </tr>\n",
       "    <tr>\n",
       "      <th>2</th>\n",
       "      <td>3.0</td>\n",
       "      <td>4.0</td>\n",
       "      <td>3041.0</td>\n",
       "      <td>6037</td>\n",
       "      <td>Single Family Residential</td>\n",
       "      <td>245311.0</td>\n",
       "      <td>2963.65</td>\n",
       "      <td>0.012081</td>\n",
       "      <td>2017-05-01</td>\n",
       "      <td>Los Angeles County</td>\n",
       "    </tr>\n",
       "    <tr>\n",
       "      <th>3</th>\n",
       "      <td>2.0</td>\n",
       "      <td>3.0</td>\n",
       "      <td>1692.0</td>\n",
       "      <td>6037</td>\n",
       "      <td>Single Family Residential</td>\n",
       "      <td>649169.0</td>\n",
       "      <td>8063.11</td>\n",
       "      <td>0.012421</td>\n",
       "      <td>2017-05-01</td>\n",
       "      <td>Los Angeles County</td>\n",
       "    </tr>\n",
       "    <tr>\n",
       "      <th>4</th>\n",
       "      <td>2.0</td>\n",
       "      <td>4.0</td>\n",
       "      <td>1611.0</td>\n",
       "      <td>6037</td>\n",
       "      <td>Single Family Residential</td>\n",
       "      <td>89640.0</td>\n",
       "      <td>1144.73</td>\n",
       "      <td>0.012770</td>\n",
       "      <td>2017-05-01</td>\n",
       "      <td>Los Angeles County</td>\n",
       "    </tr>\n",
       "    <tr>\n",
       "      <th>...</th>\n",
       "      <td>...</td>\n",
       "      <td>...</td>\n",
       "      <td>...</td>\n",
       "      <td>...</td>\n",
       "      <td>...</td>\n",
       "      <td>...</td>\n",
       "      <td>...</td>\n",
       "      <td>...</td>\n",
       "      <td>...</td>\n",
       "      <td>...</td>\n",
       "    </tr>\n",
       "    <tr>\n",
       "      <th>14984</th>\n",
       "      <td>3.0</td>\n",
       "      <td>5.0</td>\n",
       "      <td>2526.0</td>\n",
       "      <td>6059</td>\n",
       "      <td>Single Family Residential</td>\n",
       "      <td>458903.0</td>\n",
       "      <td>5718.72</td>\n",
       "      <td>0.012462</td>\n",
       "      <td>2017-06-30</td>\n",
       "      <td>Orange County</td>\n",
       "    </tr>\n",
       "    <tr>\n",
       "      <th>14985</th>\n",
       "      <td>3.0</td>\n",
       "      <td>5.0</td>\n",
       "      <td>2735.0</td>\n",
       "      <td>6059</td>\n",
       "      <td>Single Family Residential</td>\n",
       "      <td>115387.0</td>\n",
       "      <td>1465.88</td>\n",
       "      <td>0.012704</td>\n",
       "      <td>2017-06-30</td>\n",
       "      <td>Orange County</td>\n",
       "    </tr>\n",
       "    <tr>\n",
       "      <th>14986</th>\n",
       "      <td>2.0</td>\n",
       "      <td>3.0</td>\n",
       "      <td>1536.0</td>\n",
       "      <td>6037</td>\n",
       "      <td>Single Family Residential</td>\n",
       "      <td>297097.0</td>\n",
       "      <td>3519.78</td>\n",
       "      <td>0.011847</td>\n",
       "      <td>2017-06-30</td>\n",
       "      <td>Los Angeles County</td>\n",
       "    </tr>\n",
       "    <tr>\n",
       "      <th>14987</th>\n",
       "      <td>3.0</td>\n",
       "      <td>5.0</td>\n",
       "      <td>2655.0</td>\n",
       "      <td>6059</td>\n",
       "      <td>Single Family Residential</td>\n",
       "      <td>746963.0</td>\n",
       "      <td>8065.50</td>\n",
       "      <td>0.010798</td>\n",
       "      <td>2017-06-30</td>\n",
       "      <td>Orange County</td>\n",
       "    </tr>\n",
       "    <tr>\n",
       "      <th>14988</th>\n",
       "      <td>3.0</td>\n",
       "      <td>4.0</td>\n",
       "      <td>2305.0</td>\n",
       "      <td>6037</td>\n",
       "      <td>Single Family Residential</td>\n",
       "      <td>579047.0</td>\n",
       "      <td>6996.21</td>\n",
       "      <td>0.012082</td>\n",
       "      <td>2017-06-30</td>\n",
       "      <td>Los Angeles County</td>\n",
       "    </tr>\n",
       "  </tbody>\n",
       "</table>\n",
       "<p>14989 rows × 10 columns</p>\n",
       "</div>"
      ],
      "text/plain": [
       "       bathrooms  bedrooms  square_feet  fips_code       property_description  \\\n",
       "0            2.5       3.0       1653.0       6059  Single Family Residential   \n",
       "1            3.0       3.0       1572.0       6037  Single Family Residential   \n",
       "2            3.0       4.0       3041.0       6037  Single Family Residential   \n",
       "3            2.0       3.0       1692.0       6037  Single Family Residential   \n",
       "4            2.0       4.0       1611.0       6037  Single Family Residential   \n",
       "...          ...       ...          ...        ...                        ...   \n",
       "14984        3.0       5.0       2526.0       6059  Single Family Residential   \n",
       "14985        3.0       5.0       2735.0       6059  Single Family Residential   \n",
       "14986        2.0       3.0       1536.0       6037  Single Family Residential   \n",
       "14987        3.0       5.0       2655.0       6059  Single Family Residential   \n",
       "14988        3.0       4.0       2305.0       6037  Single Family Residential   \n",
       "\n",
       "       home_value  tax_amount  tax_rate transaction_date              county  \n",
       "0        605000.0     6185.28  0.010224       2017-05-01       Orange County  \n",
       "1        404060.0     4934.43  0.012212       2017-05-01  Los Angeles County  \n",
       "2        245311.0     2963.65  0.012081       2017-05-01  Los Angeles County  \n",
       "3        649169.0     8063.11  0.012421       2017-05-01  Los Angeles County  \n",
       "4         89640.0     1144.73  0.012770       2017-05-01  Los Angeles County  \n",
       "...           ...         ...       ...              ...                 ...  \n",
       "14984    458903.0     5718.72  0.012462       2017-06-30       Orange County  \n",
       "14985    115387.0     1465.88  0.012704       2017-06-30       Orange County  \n",
       "14986    297097.0     3519.78  0.011847       2017-06-30  Los Angeles County  \n",
       "14987    746963.0     8065.50  0.010798       2017-06-30       Orange County  \n",
       "14988    579047.0     6996.21  0.012082       2017-06-30  Los Angeles County  \n",
       "\n",
       "[14989 rows x 10 columns]"
      ]
     },
     "execution_count": 32,
     "metadata": {},
     "output_type": "execute_result"
    }
   ],
   "source": [
    "df = wr.wrangle_zillow()\n",
    "df"
   ]
  },
  {
   "cell_type": "markdown",
   "metadata": {},
   "source": [
    "### Data Dictionary\n",
    "- **bathrooms**:\n",
    "    - The number of bathrooms in each home\n",
    "    - zillow SQL database field: properties_2017.bathroomcnt\n",
    "    - Homes with zero bathrooms were filtered out in my SQL query\n",
    "    - I chose this field to represent the number of bathrooms per home as it appears to be the most complete and appropriate field in the database\n",
    "- **bedrooms**:\n",
    "    - The number of bedrooms in each home\n",
    "    - zillow SQL database field: properties_2017.bedroomcnt\n",
    "    - Homes with zero bedrooms were filtered out in my SQL query\n",
    "    - I chose this field to represent the number of bedrooms per home as it appears to be the most complete and appropriate field in the database\n",
    "- **square_feet**:\n",
    "    - The square footage of each home\n",
    "    - zillow SQL database field: properties_2017.calculatedfinishedsquarefeet\n",
    "    - I chose this field to represent square footage per home as it appears to be the most complete and appropriate field in the database\n",
    "- **fips_code**:\n",
    "    - The Federal Information Processing System (FIPS) code for each home. Essentially, this is a state and county unique identifier established by the Federal Communications Commission (FCC)\n",
    "    - zillow SQL database field: properties_2017.fips\n",
    "    - I chose to use this field to index the county in which each home is located \n",
    "- **property_description**:\n",
    "    - The property description of each home\n",
    "    - zillow SQL database field: propertylandusetype.propertylandusedesc\n",
    "    - I filtered the data in my SQL query to include Single Family Residential properties only\n",
    "    - I chose to use and filter by this field as I interpreted the term \"single unit properties\" from the project specifications to mean Single Family Residential properties\n",
    "- **home_value**:\n",
    "    - The property's tax assessed value in 2017, presumably\n",
    "    - zillow SQL database field: properties_2017.taxvaluedollarcnt\n",
    "    - I used this field to represent home_value as suggested in the project specifications\n",
    "- **tax_amount**:\n",
    "    - The amount of tax paid on each property in 2017, presumably\n",
    "    - zillow SQL database field: properties_2017.taxamount\n",
    "    - I used this field to represent tax_amount and calculate the tax rate for each property\n",
    "- **tax_rate**:\n",
    "    - The tax rate for each property in 2017, presumably\n",
    "    - zillow SQL database fields: (properties_2017.taxamount/properties_2017.taxvaluedollarcnt) as tax_rate\n",
    "    - I used the fields above to calculate the tax_rate for each property\n",
    "- **transaction_date**:\n",
    "    - The last transaction date for each property\n",
    "    - zillow SQL database field: predictions_2017.transactiondate\n",
    "    - I filtered the data in my SQL query to include only those homes whose last transaction date was in the \"hot months\" of May and June in terms of real estate demand as per the project specifications\n",
    "    - I chose to use and filter by this field as appears to be the most appropriate date field in the database\n",
    "- **transaction_date**:\n",
    "    - The county in which each property is located\n",
    "    - This field was indexed using the FIPS codes provided by the FCC as mentioned above\n",
    "    - I chose to include this field in my DataFrame it will be used to plot the distribution of tax rates by county"
   ]
  },
  {
   "cell_type": "code",
   "execution_count": 33,
   "metadata": {},
   "outputs": [
    {
     "data": {
      "text/plain": [
       "2.0     6181\n",
       "3.0     3114\n",
       "1.0     2646\n",
       "2.5     1155\n",
       "4.0      671\n",
       "3.5      302\n",
       "1.5      240\n",
       "5.0      233\n",
       "4.5      217\n",
       "6.0      102\n",
       "5.5       65\n",
       "7.0       25\n",
       "6.5       15\n",
       "8.0       14\n",
       "7.5        4\n",
       "9.0        3\n",
       "11.0       1\n",
       "10.0       1\n",
       "Name: bathrooms, dtype: int64"
      ]
     },
     "execution_count": 33,
     "metadata": {},
     "output_type": "execute_result"
    }
   ],
   "source": [
    "df.bathrooms.value_counts()"
   ]
  },
  {
   "cell_type": "code",
   "execution_count": 34,
   "metadata": {},
   "outputs": [
    {
     "data": {
      "text/plain": [
       "3.0     6664\n",
       "4.0     4422\n",
       "2.0     2350\n",
       "5.0     1158\n",
       "6.0      183\n",
       "1.0      177\n",
       "7.0       27\n",
       "12.0       3\n",
       "9.0        2\n",
       "11.0       1\n",
       "10.0       1\n",
       "8.0        1\n",
       "Name: bedrooms, dtype: int64"
      ]
     },
     "execution_count": 34,
     "metadata": {},
     "output_type": "execute_result"
    }
   ],
   "source": [
    "df.bedrooms.value_counts()"
   ]
  },
  {
   "cell_type": "code",
   "execution_count": 35,
   "metadata": {},
   "outputs": [],
   "source": [
    "# df.reset_index(inplace=True)"
   ]
  },
  {
   "cell_type": "code",
   "execution_count": 36,
   "metadata": {},
   "outputs": [
    {
     "data": {
      "text/html": [
       "<div>\n",
       "<style scoped>\n",
       "    .dataframe tbody tr th:only-of-type {\n",
       "        vertical-align: middle;\n",
       "    }\n",
       "\n",
       "    .dataframe tbody tr th {\n",
       "        vertical-align: top;\n",
       "    }\n",
       "\n",
       "    .dataframe thead th {\n",
       "        text-align: right;\n",
       "    }\n",
       "</style>\n",
       "<table border=\"1\" class=\"dataframe\">\n",
       "  <thead>\n",
       "    <tr style=\"text-align: right;\">\n",
       "      <th></th>\n",
       "      <th>bathrooms</th>\n",
       "      <th>bedrooms</th>\n",
       "      <th>square_feet</th>\n",
       "      <th>fips_code</th>\n",
       "      <th>property_description</th>\n",
       "      <th>home_value</th>\n",
       "      <th>tax_amount</th>\n",
       "      <th>tax_rate</th>\n",
       "      <th>transaction_date</th>\n",
       "      <th>county</th>\n",
       "    </tr>\n",
       "  </thead>\n",
       "  <tbody>\n",
       "    <tr>\n",
       "      <th>0</th>\n",
       "      <td>2.5</td>\n",
       "      <td>3.0</td>\n",
       "      <td>1653.0</td>\n",
       "      <td>6059</td>\n",
       "      <td>Single Family Residential</td>\n",
       "      <td>605000.0</td>\n",
       "      <td>6185.28</td>\n",
       "      <td>0.010224</td>\n",
       "      <td>2017-05-01</td>\n",
       "      <td>Orange County</td>\n",
       "    </tr>\n",
       "    <tr>\n",
       "      <th>1</th>\n",
       "      <td>3.0</td>\n",
       "      <td>3.0</td>\n",
       "      <td>1572.0</td>\n",
       "      <td>6037</td>\n",
       "      <td>Single Family Residential</td>\n",
       "      <td>404060.0</td>\n",
       "      <td>4934.43</td>\n",
       "      <td>0.012212</td>\n",
       "      <td>2017-05-01</td>\n",
       "      <td>Los Angeles County</td>\n",
       "    </tr>\n",
       "    <tr>\n",
       "      <th>2</th>\n",
       "      <td>3.0</td>\n",
       "      <td>4.0</td>\n",
       "      <td>3041.0</td>\n",
       "      <td>6037</td>\n",
       "      <td>Single Family Residential</td>\n",
       "      <td>245311.0</td>\n",
       "      <td>2963.65</td>\n",
       "      <td>0.012081</td>\n",
       "      <td>2017-05-01</td>\n",
       "      <td>Los Angeles County</td>\n",
       "    </tr>\n",
       "    <tr>\n",
       "      <th>3</th>\n",
       "      <td>2.0</td>\n",
       "      <td>3.0</td>\n",
       "      <td>1692.0</td>\n",
       "      <td>6037</td>\n",
       "      <td>Single Family Residential</td>\n",
       "      <td>649169.0</td>\n",
       "      <td>8063.11</td>\n",
       "      <td>0.012421</td>\n",
       "      <td>2017-05-01</td>\n",
       "      <td>Los Angeles County</td>\n",
       "    </tr>\n",
       "    <tr>\n",
       "      <th>4</th>\n",
       "      <td>2.0</td>\n",
       "      <td>4.0</td>\n",
       "      <td>1611.0</td>\n",
       "      <td>6037</td>\n",
       "      <td>Single Family Residential</td>\n",
       "      <td>89640.0</td>\n",
       "      <td>1144.73</td>\n",
       "      <td>0.012770</td>\n",
       "      <td>2017-05-01</td>\n",
       "      <td>Los Angeles County</td>\n",
       "    </tr>\n",
       "    <tr>\n",
       "      <th>...</th>\n",
       "      <td>...</td>\n",
       "      <td>...</td>\n",
       "      <td>...</td>\n",
       "      <td>...</td>\n",
       "      <td>...</td>\n",
       "      <td>...</td>\n",
       "      <td>...</td>\n",
       "      <td>...</td>\n",
       "      <td>...</td>\n",
       "      <td>...</td>\n",
       "    </tr>\n",
       "    <tr>\n",
       "      <th>14984</th>\n",
       "      <td>3.0</td>\n",
       "      <td>5.0</td>\n",
       "      <td>2526.0</td>\n",
       "      <td>6059</td>\n",
       "      <td>Single Family Residential</td>\n",
       "      <td>458903.0</td>\n",
       "      <td>5718.72</td>\n",
       "      <td>0.012462</td>\n",
       "      <td>2017-06-30</td>\n",
       "      <td>Orange County</td>\n",
       "    </tr>\n",
       "    <tr>\n",
       "      <th>14985</th>\n",
       "      <td>3.0</td>\n",
       "      <td>5.0</td>\n",
       "      <td>2735.0</td>\n",
       "      <td>6059</td>\n",
       "      <td>Single Family Residential</td>\n",
       "      <td>115387.0</td>\n",
       "      <td>1465.88</td>\n",
       "      <td>0.012704</td>\n",
       "      <td>2017-06-30</td>\n",
       "      <td>Orange County</td>\n",
       "    </tr>\n",
       "    <tr>\n",
       "      <th>14986</th>\n",
       "      <td>2.0</td>\n",
       "      <td>3.0</td>\n",
       "      <td>1536.0</td>\n",
       "      <td>6037</td>\n",
       "      <td>Single Family Residential</td>\n",
       "      <td>297097.0</td>\n",
       "      <td>3519.78</td>\n",
       "      <td>0.011847</td>\n",
       "      <td>2017-06-30</td>\n",
       "      <td>Los Angeles County</td>\n",
       "    </tr>\n",
       "    <tr>\n",
       "      <th>14987</th>\n",
       "      <td>3.0</td>\n",
       "      <td>5.0</td>\n",
       "      <td>2655.0</td>\n",
       "      <td>6059</td>\n",
       "      <td>Single Family Residential</td>\n",
       "      <td>746963.0</td>\n",
       "      <td>8065.50</td>\n",
       "      <td>0.010798</td>\n",
       "      <td>2017-06-30</td>\n",
       "      <td>Orange County</td>\n",
       "    </tr>\n",
       "    <tr>\n",
       "      <th>14988</th>\n",
       "      <td>3.0</td>\n",
       "      <td>4.0</td>\n",
       "      <td>2305.0</td>\n",
       "      <td>6037</td>\n",
       "      <td>Single Family Residential</td>\n",
       "      <td>579047.0</td>\n",
       "      <td>6996.21</td>\n",
       "      <td>0.012082</td>\n",
       "      <td>2017-06-30</td>\n",
       "      <td>Los Angeles County</td>\n",
       "    </tr>\n",
       "  </tbody>\n",
       "</table>\n",
       "<p>14989 rows × 10 columns</p>\n",
       "</div>"
      ],
      "text/plain": [
       "       bathrooms  bedrooms  square_feet  fips_code       property_description  \\\n",
       "0            2.5       3.0       1653.0       6059  Single Family Residential   \n",
       "1            3.0       3.0       1572.0       6037  Single Family Residential   \n",
       "2            3.0       4.0       3041.0       6037  Single Family Residential   \n",
       "3            2.0       3.0       1692.0       6037  Single Family Residential   \n",
       "4            2.0       4.0       1611.0       6037  Single Family Residential   \n",
       "...          ...       ...          ...        ...                        ...   \n",
       "14984        3.0       5.0       2526.0       6059  Single Family Residential   \n",
       "14985        3.0       5.0       2735.0       6059  Single Family Residential   \n",
       "14986        2.0       3.0       1536.0       6037  Single Family Residential   \n",
       "14987        3.0       5.0       2655.0       6059  Single Family Residential   \n",
       "14988        3.0       4.0       2305.0       6037  Single Family Residential   \n",
       "\n",
       "       home_value  tax_amount  tax_rate transaction_date              county  \n",
       "0        605000.0     6185.28  0.010224       2017-05-01       Orange County  \n",
       "1        404060.0     4934.43  0.012212       2017-05-01  Los Angeles County  \n",
       "2        245311.0     2963.65  0.012081       2017-05-01  Los Angeles County  \n",
       "3        649169.0     8063.11  0.012421       2017-05-01  Los Angeles County  \n",
       "4         89640.0     1144.73  0.012770       2017-05-01  Los Angeles County  \n",
       "...           ...         ...       ...              ...                 ...  \n",
       "14984    458903.0     5718.72  0.012462       2017-06-30       Orange County  \n",
       "14985    115387.0     1465.88  0.012704       2017-06-30       Orange County  \n",
       "14986    297097.0     3519.78  0.011847       2017-06-30  Los Angeles County  \n",
       "14987    746963.0     8065.50  0.010798       2017-06-30       Orange County  \n",
       "14988    579047.0     6996.21  0.012082       2017-06-30  Los Angeles County  \n",
       "\n",
       "[14989 rows x 10 columns]"
      ]
     },
     "execution_count": 36,
     "metadata": {},
     "output_type": "execute_result"
    }
   ],
   "source": [
    "df"
   ]
  },
  {
   "cell_type": "code",
   "execution_count": 37,
   "metadata": {},
   "outputs": [],
   "source": [
    "# df.drop(columns=\"index\", inplace=True)\n",
    "# df"
   ]
  },
  {
   "cell_type": "code",
   "execution_count": 38,
   "metadata": {},
   "outputs": [
    {
     "name": "stdout",
     "output_type": "stream",
     "text": [
      "<class 'pandas.core.frame.DataFrame'>\n",
      "RangeIndex: 14989 entries, 0 to 14988\n",
      "Data columns (total 10 columns):\n",
      "bathrooms               14989 non-null float64\n",
      "bedrooms                14989 non-null float64\n",
      "square_feet             14989 non-null float64\n",
      "fips_code               14989 non-null int64\n",
      "property_description    14989 non-null object\n",
      "home_value              14989 non-null float64\n",
      "tax_amount              14989 non-null float64\n",
      "tax_rate                14989 non-null float64\n",
      "transaction_date        14989 non-null object\n",
      "county                  14989 non-null object\n",
      "dtypes: float64(6), int64(1), object(3)\n",
      "memory usage: 1.1+ MB\n"
     ]
    }
   ],
   "source": [
    "df.info()"
   ]
  },
  {
   "cell_type": "code",
   "execution_count": 39,
   "metadata": {},
   "outputs": [
    {
     "name": "stdout",
     "output_type": "stream",
     "text": [
      "True\n",
      "True\n",
      "True\n",
      "True\n",
      "0\n",
      "True\n",
      "True\n"
     ]
    }
   ],
   "source": [
    "print((df[\"bathrooms\"] > 0).all())\n",
    "print((df[\"bedrooms\"] > 0).all())\n",
    "print((df[\"square_feet\"] > 0).all())\n",
    "print((df[\"fips_code\"] > 0).all())\n",
    "print((df[\"property_description\"].isnull().sum()))\n",
    "print((df[\"home_value\"] > 0).all())\n",
    "print((df[\"tax_amount\"] > 0).all())\n"
   ]
  },
  {
   "cell_type": "code",
   "execution_count": 40,
   "metadata": {},
   "outputs": [
    {
     "data": {
      "text/plain": [
       "<Figure size 1152x576 with 0 Axes>"
      ]
     },
     "metadata": {},
     "output_type": "display_data"
    },
    {
     "data": {
      "image/png": "[encoded data removed]",
      "text/plain": [
       "<Figure size 1080x1080 with 42 Axes>"
      ]
     },
     "metadata": {
      "needs_background": "light"
     },
     "output_type": "display_data"
    }
   ],
   "source": [
    "plt.figure(figsize=(16, 8))\n",
    "sns.pairplot(data=df, vars=[\"square_feet\", \"bedrooms\", \"bathrooms\", \"home_value\", \"tax_amount\", \"tax_rate\"], kind=\"reg\", plot_kws={\"line_kws\": {\"color\": sns.color_palette(\"colorblind\")[4]}})\n",
    "plt.show()"
   ]
  },
  {
   "cell_type": "code",
   "execution_count": null,
   "metadata": {},
   "outputs": [],
   "source": [
    "# def plot_tax_distribution(ax, tax_rate, county, data):\n",
    "#     for c in county.unique():\n",
    "#         plt.figure(figsize=(16, 4))\n",
    "#         plt.title(f\"Distribution of Tax Rates in {c}\")\n",
    "#         sns.distplot(data[data.c == c].tax_rate)\n",
    "#         plt.xlabel(\"Tax Rate\")\n",
    "#         plt.show()"
   ]
  },
  {
   "cell_type": "code",
   "execution_count": 52,
   "metadata": {},
   "outputs": [
    {
     "data": {
      "text/plain": [
       "array([[-25],\n",
       "       [100]])"
      ]
     },
     "execution_count": 52,
     "metadata": {},
     "output_type": "execute_result"
    }
   ],
   "source": [
    "x_pred = np.array([-25, 100]).reshape(-1, 1)\n",
    "x_pred"
   ]
  },
  {
   "cell_type": "code",
   "execution_count": null,
   "metadata": {},
   "outputs": [],
   "source": []
  }
 ],
 "metadata": {
  "kernelspec": {
   "display_name": "Python 3",
   "language": "python",
   "name": "python3"
  },
  "language_info": {
   "codemirror_mode": {
    "name": "ipython",
    "version": 3
   },
   "file_extension": ".py",
   "mimetype": "text/x-python",
   "name": "python",
   "nbconvert_exporter": "python",
   "pygments_lexer": "ipython3",
   "version": "3.7.4"
  }
 },
 "nbformat": 4,
 "nbformat_minor": 2
}
