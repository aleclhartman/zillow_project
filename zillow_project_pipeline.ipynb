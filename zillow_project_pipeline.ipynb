{
 "cells": [
  {
   "cell_type": "markdown",
   "metadata": {},
   "source": [
    "\n",
    "# Predict Home Value of Zillow Listings"
   ]
  },
  {
   "cell_type": "markdown",
   "metadata": {},
   "source": [
    "**Alec Hartman**\n",
    "\n",
    "**April 13, 2020**"
   ]
  },
  {
   "cell_type": "markdown",
   "metadata": {},
   "source": [
    "## Goals\n",
    "1. Develop a model to predict home values using square feet, bedrooms, and bathrooms.\n",
    "2. Create a summary presentation describing the drivers of single unit property values.\n",
    "3. Plot distributions of tax rates for each county, and provide key measures of central tendency and measures of spread."
   ]
  },
  {
   "cell_type": "markdown",
   "metadata": {},
   "source": [
    "---\n",
    "### 1. Acquire + Preparation (aka Wrangling)"
   ]
  },
  {
   "cell_type": "code",
   "execution_count": 1,
   "metadata": {},
   "outputs": [],
   "source": [
    "import numpy as np\n",
    "import pandas as pd\n",
    "\n",
    "%matplotlib inline\n",
    "import matplotlib.pyplot as plt\n",
    "import seaborn as sns\n",
    "\n",
    "import math\n",
    "from scipy import stats\n",
    "from statsmodels.formula.api import ols\n",
    "\n",
    "import sklearn\n",
    "import sklearn.metrics\n",
    "import sklearn.linear_model\n",
    "\n",
    "import wrangle as wr\n",
    "import split_scale as ss\n",
    "import explore as ex\n",
    "import evaluate as ev\n",
    "\n",
    "import warnings\n",
    "warnings.filterwarnings(\"ignore\")"
   ]
  },
  {
   "cell_type": "code",
   "execution_count": 2,
   "metadata": {},
   "outputs": [
    {
     "data": {
      "text/html": [
       "<div>\n",
       "<style scoped>\n",
       "    .dataframe tbody tr th:only-of-type {\n",
       "        vertical-align: middle;\n",
       "    }\n",
       "\n",
       "    .dataframe tbody tr th {\n",
       "        vertical-align: top;\n",
       "    }\n",
       "\n",
       "    .dataframe thead th {\n",
       "        text-align: right;\n",
       "    }\n",
       "</style>\n",
       "<table border=\"1\" class=\"dataframe\">\n",
       "  <thead>\n",
       "    <tr style=\"text-align: right;\">\n",
       "      <th></th>\n",
       "      <th>bathrooms</th>\n",
       "      <th>bedrooms</th>\n",
       "      <th>square_feet</th>\n",
       "      <th>fips_code</th>\n",
       "      <th>property_description</th>\n",
       "      <th>home_value</th>\n",
       "      <th>tax_amount</th>\n",
       "      <th>tax_rate</th>\n",
       "      <th>transaction_date</th>\n",
       "      <th>county</th>\n",
       "    </tr>\n",
       "  </thead>\n",
       "  <tbody>\n",
       "    <tr>\n",
       "      <th>0</th>\n",
       "      <td>2.5</td>\n",
       "      <td>3.0</td>\n",
       "      <td>1653.0</td>\n",
       "      <td>6059</td>\n",
       "      <td>Single Family Residential</td>\n",
       "      <td>605000.0</td>\n",
       "      <td>6185.28</td>\n",
       "      <td>0.010224</td>\n",
       "      <td>2017-05-01</td>\n",
       "      <td>Orange County</td>\n",
       "    </tr>\n",
       "    <tr>\n",
       "      <th>1</th>\n",
       "      <td>3.0</td>\n",
       "      <td>3.0</td>\n",
       "      <td>1572.0</td>\n",
       "      <td>6037</td>\n",
       "      <td>Single Family Residential</td>\n",
       "      <td>404060.0</td>\n",
       "      <td>4934.43</td>\n",
       "      <td>0.012212</td>\n",
       "      <td>2017-05-01</td>\n",
       "      <td>Los Angeles County</td>\n",
       "    </tr>\n",
       "    <tr>\n",
       "      <th>2</th>\n",
       "      <td>3.0</td>\n",
       "      <td>4.0</td>\n",
       "      <td>3041.0</td>\n",
       "      <td>6037</td>\n",
       "      <td>Single Family Residential</td>\n",
       "      <td>245311.0</td>\n",
       "      <td>2963.65</td>\n",
       "      <td>0.012081</td>\n",
       "      <td>2017-05-01</td>\n",
       "      <td>Los Angeles County</td>\n",
       "    </tr>\n",
       "    <tr>\n",
       "      <th>3</th>\n",
       "      <td>2.0</td>\n",
       "      <td>3.0</td>\n",
       "      <td>1692.0</td>\n",
       "      <td>6037</td>\n",
       "      <td>Single Family Residential</td>\n",
       "      <td>649169.0</td>\n",
       "      <td>8063.11</td>\n",
       "      <td>0.012421</td>\n",
       "      <td>2017-05-01</td>\n",
       "      <td>Los Angeles County</td>\n",
       "    </tr>\n",
       "    <tr>\n",
       "      <th>4</th>\n",
       "      <td>2.0</td>\n",
       "      <td>4.0</td>\n",
       "      <td>1611.0</td>\n",
       "      <td>6037</td>\n",
       "      <td>Single Family Residential</td>\n",
       "      <td>89640.0</td>\n",
       "      <td>1144.73</td>\n",
       "      <td>0.012770</td>\n",
       "      <td>2017-05-01</td>\n",
       "      <td>Los Angeles County</td>\n",
       "    </tr>\n",
       "    <tr>\n",
       "      <th>...</th>\n",
       "      <td>...</td>\n",
       "      <td>...</td>\n",
       "      <td>...</td>\n",
       "      <td>...</td>\n",
       "      <td>...</td>\n",
       "      <td>...</td>\n",
       "      <td>...</td>\n",
       "      <td>...</td>\n",
       "      <td>...</td>\n",
       "      <td>...</td>\n",
       "    </tr>\n",
       "    <tr>\n",
       "      <th>14984</th>\n",
       "      <td>3.0</td>\n",
       "      <td>5.0</td>\n",
       "      <td>2526.0</td>\n",
       "      <td>6059</td>\n",
       "      <td>Single Family Residential</td>\n",
       "      <td>458903.0</td>\n",
       "      <td>5718.72</td>\n",
       "      <td>0.012462</td>\n",
       "      <td>2017-06-30</td>\n",
       "      <td>Orange County</td>\n",
       "    </tr>\n",
       "    <tr>\n",
       "      <th>14985</th>\n",
       "      <td>3.0</td>\n",
       "      <td>5.0</td>\n",
       "      <td>2735.0</td>\n",
       "      <td>6059</td>\n",
       "      <td>Single Family Residential</td>\n",
       "      <td>115387.0</td>\n",
       "      <td>1465.88</td>\n",
       "      <td>0.012704</td>\n",
       "      <td>2017-06-30</td>\n",
       "      <td>Orange County</td>\n",
       "    </tr>\n",
       "    <tr>\n",
       "      <th>14986</th>\n",
       "      <td>2.0</td>\n",
       "      <td>3.0</td>\n",
       "      <td>1536.0</td>\n",
       "      <td>6037</td>\n",
       "      <td>Single Family Residential</td>\n",
       "      <td>297097.0</td>\n",
       "      <td>3519.78</td>\n",
       "      <td>0.011847</td>\n",
       "      <td>2017-06-30</td>\n",
       "      <td>Los Angeles County</td>\n",
       "    </tr>\n",
       "    <tr>\n",
       "      <th>14987</th>\n",
       "      <td>3.0</td>\n",
       "      <td>5.0</td>\n",
       "      <td>2655.0</td>\n",
       "      <td>6059</td>\n",
       "      <td>Single Family Residential</td>\n",
       "      <td>746963.0</td>\n",
       "      <td>8065.50</td>\n",
       "      <td>0.010798</td>\n",
       "      <td>2017-06-30</td>\n",
       "      <td>Orange County</td>\n",
       "    </tr>\n",
       "    <tr>\n",
       "      <th>14988</th>\n",
       "      <td>3.0</td>\n",
       "      <td>4.0</td>\n",
       "      <td>2305.0</td>\n",
       "      <td>6037</td>\n",
       "      <td>Single Family Residential</td>\n",
       "      <td>579047.0</td>\n",
       "      <td>6996.21</td>\n",
       "      <td>0.012082</td>\n",
       "      <td>2017-06-30</td>\n",
       "      <td>Los Angeles County</td>\n",
       "    </tr>\n",
       "  </tbody>\n",
       "</table>\n",
       "<p>14989 rows × 10 columns</p>\n",
       "</div>"
      ],
      "text/plain": [
       "       bathrooms  bedrooms  square_feet  fips_code       property_description  \\\n",
       "0            2.5       3.0       1653.0       6059  Single Family Residential   \n",
       "1            3.0       3.0       1572.0       6037  Single Family Residential   \n",
       "2            3.0       4.0       3041.0       6037  Single Family Residential   \n",
       "3            2.0       3.0       1692.0       6037  Single Family Residential   \n",
       "4            2.0       4.0       1611.0       6037  Single Family Residential   \n",
       "...          ...       ...          ...        ...                        ...   \n",
       "14984        3.0       5.0       2526.0       6059  Single Family Residential   \n",
       "14985        3.0       5.0       2735.0       6059  Single Family Residential   \n",
       "14986        2.0       3.0       1536.0       6037  Single Family Residential   \n",
       "14987        3.0       5.0       2655.0       6059  Single Family Residential   \n",
       "14988        3.0       4.0       2305.0       6037  Single Family Residential   \n",
       "\n",
       "       home_value  tax_amount  tax_rate transaction_date              county  \n",
       "0        605000.0     6185.28  0.010224       2017-05-01       Orange County  \n",
       "1        404060.0     4934.43  0.012212       2017-05-01  Los Angeles County  \n",
       "2        245311.0     2963.65  0.012081       2017-05-01  Los Angeles County  \n",
       "3        649169.0     8063.11  0.012421       2017-05-01  Los Angeles County  \n",
       "4         89640.0     1144.73  0.012770       2017-05-01  Los Angeles County  \n",
       "...           ...         ...       ...              ...                 ...  \n",
       "14984    458903.0     5718.72  0.012462       2017-06-30       Orange County  \n",
       "14985    115387.0     1465.88  0.012704       2017-06-30       Orange County  \n",
       "14986    297097.0     3519.78  0.011847       2017-06-30  Los Angeles County  \n",
       "14987    746963.0     8065.50  0.010798       2017-06-30       Orange County  \n",
       "14988    579047.0     6996.21  0.012082       2017-06-30  Los Angeles County  \n",
       "\n",
       "[14989 rows x 10 columns]"
      ]
     },
     "execution_count": 2,
     "metadata": {},
     "output_type": "execute_result"
    }
   ],
   "source": [
    "df = wr.wrangle_zillow()\n",
    "df"
   ]
  },
  {
   "cell_type": "markdown",
   "metadata": {},
   "source": [
    "### Data Dictionary\n",
    "- **bathrooms**:\n",
    "    - The number of bathrooms in each home\n",
    "    - zillow SQL database field: properties_2017.bathroomcnt\n",
    "    - Homes with zero bathrooms were filtered out in my SQL query\n",
    "    - I chose this field to represent the number of bathrooms per home as it appears to be the most complete and appropriate field in the database\n",
    "- **bedrooms**:\n",
    "    - The number of bedrooms in each home\n",
    "    - zillow SQL database field: properties_2017.bedroomcnt\n",
    "    - Homes with zero bedrooms were filtered out in my SQL query\n",
    "    - I chose this field to represent the number of bedrooms per home as it appears to be the most complete and appropriate field in the database\n",
    "- **square_feet**:\n",
    "    - The square footage of each home\n",
    "    - zillow SQL database field: properties_2017.calculatedfinishedsquarefeet\n",
    "    - I chose this field to represent square footage per home as it appears to be the most complete and appropriate field in the database\n",
    "- **fips_code**:\n",
    "    - The Federal Information Processing System (FIPS) code for each home. Essentially, this is a state and county unique identifier established by the Federal Communications Commission (FCC)\n",
    "    - zillow SQL database field: properties_2017.fips\n",
    "    - I chose to use this field to index the county in which each home is located \n",
    "- **property_description**:\n",
    "    - The property description of each home\n",
    "    - zillow SQL database field: propertylandusetype.propertylandusedesc\n",
    "    - I filtered the data in my SQL query to include Single Family Residential properties only\n",
    "    - I chose to use and filter by this field as I interpreted the term \"single unit properties\" from the project specifications to mean Single Family Residential properties\n",
    "- **home_value**:\n",
    "    - The property's tax assessed value in 2017, presumably\n",
    "    - zillow SQL database field: properties_2017.taxvaluedollarcnt\n",
    "    - I used this field to represent home value as suggested in the project specifications\n",
    "- **tax_amount**:\n",
    "    - The amount of tax paid on each property in 2017, presumably\n",
    "    - zillow SQL database field: properties_2017.taxamount\n",
    "    - I used this field to represent tax amount and calculate the tax rate for each property\n",
    "- **tax_rate**:\n",
    "    - The tax rate for each property in 2017, presumably\n",
    "    - zillow SQL database fields: (properties_2017.taxamount/properties_2017.taxvaluedollarcnt) as tax_rate\n",
    "    - I used the fields above to calculate the tax rate for each property\n",
    "- **transaction_date**:\n",
    "    - The last transaction date for each property\n",
    "    - zillow SQL database field: predictions_2017.transactiondate\n",
    "    - I filtered the data in my SQL query to include only those homes whose last transaction date was in the \"hot months\" of May and June in terms of real estate demand as per the project specifications\n",
    "    - I chose to use and filter by this field as appears to be the most appropriate date field in the database\n",
    "- **county**:\n",
    "    - The county in which each property is located\n",
    "    - This field was indexed using the FIPS codes provided by the FCC as mentioned above. You can reference the website where this information was found by following this [link](https://transition.fcc.gov/oet/info/maps/census/fips/fips.txt).\n",
    "    - I chose to include this field in my DataFrame it will be used to plot the distribution of tax rates by county"
   ]
  },
  {
   "cell_type": "markdown",
   "metadata": {},
   "source": [
    "#### In which state and counties are these listing located?"
   ]
  },
  {
   "cell_type": "code",
   "execution_count": 3,
   "metadata": {},
   "outputs": [
    {
     "data": {
      "text/plain": [
       "array(['Orange County', 'Los Angeles County', 'Ventura County'],\n",
       "      dtype=object)"
      ]
     },
     "execution_count": 3,
     "metadata": {},
     "output_type": "execute_result"
    }
   ],
   "source": [
    "df.county.unique()"
   ]
  },
  {
   "cell_type": "markdown",
   "metadata": {},
   "source": [
    "> All properties contained in the DataFrame above are in the California counties of Los Angeles, Orange, and Ventura."
   ]
  },
  {
   "cell_type": "markdown",
   "metadata": {},
   "source": [
    "#### Let's ensure our data is truly ready to analyze."
   ]
  },
  {
   "cell_type": "code",
   "execution_count": 4,
   "metadata": {},
   "outputs": [],
   "source": [
    "assert (df.bathrooms == 0).sum() == 0, \"If you see an AssertionError, there are zero values in the bathrooms feature.\"\n",
    "assert (df.bedrooms == 0).sum() == 0, \"If you see an AssertionError, there are zero values in the bedrooms feature.\"\n",
    "assert (df.square_feet == 0).sum() == 0, \"If you see an AssertionError, there are zero values in the square_feet feature.\"\n",
    "assert (df.fips_code == 0).sum() == 0, \"If you see an AssertionError, there are zero values in the fips_code feature.\"\n",
    "assert (df.home_value == 0).sum() == 0, \"If you see an AssertionError, there are zero values in the tax_value feature.\"\n",
    "assert (df.tax_amount == 0).sum() == 0, \"If you see an AssertionError, there are zero values in the tax_amount feature.\"\n",
    "assert (df.tax_rate == 0).sum() == 0, \"If you see an AssertionError, there are zero values in the tax_rate feature.\""
   ]
  },
  {
   "cell_type": "code",
   "execution_count": 5,
   "metadata": {
    "scrolled": true
   },
   "outputs": [
    {
     "data": {
      "text/plain": [
       "bathrooms               0\n",
       "bedrooms                0\n",
       "square_feet             0\n",
       "fips_code               0\n",
       "property_description    0\n",
       "home_value              0\n",
       "tax_amount              0\n",
       "tax_rate                0\n",
       "transaction_date        0\n",
       "county                  0\n",
       "dtype: int64"
      ]
     },
     "execution_count": 5,
     "metadata": {},
     "output_type": "execute_result"
    }
   ],
   "source": [
    "df.isnull().sum()"
   ]
  },
  {
   "cell_type": "code",
   "execution_count": 6,
   "metadata": {
    "scrolled": true
   },
   "outputs": [
    {
     "name": "stdout",
     "output_type": "stream",
     "text": [
      "<class 'pandas.core.frame.DataFrame'>\n",
      "RangeIndex: 14989 entries, 0 to 14988\n",
      "Data columns (total 10 columns):\n",
      "bathrooms               14989 non-null float64\n",
      "bedrooms                14989 non-null float64\n",
      "square_feet             14989 non-null float64\n",
      "fips_code               14989 non-null int64\n",
      "property_description    14989 non-null object\n",
      "home_value              14989 non-null float64\n",
      "tax_amount              14989 non-null float64\n",
      "tax_rate                14989 non-null float64\n",
      "transaction_date        14989 non-null object\n",
      "county                  14989 non-null object\n",
      "dtypes: float64(6), int64(1), object(3)\n",
      "memory usage: 1.1+ MB\n"
     ]
    }
   ],
   "source": [
    "df.info()"
   ]
  },
  {
   "cell_type": "code",
   "execution_count": 7,
   "metadata": {},
   "outputs": [
    {
     "data": {
      "text/html": [
       "<div>\n",
       "<style scoped>\n",
       "    .dataframe tbody tr th:only-of-type {\n",
       "        vertical-align: middle;\n",
       "    }\n",
       "\n",
       "    .dataframe tbody tr th {\n",
       "        vertical-align: top;\n",
       "    }\n",
       "\n",
       "    .dataframe thead th {\n",
       "        text-align: right;\n",
       "    }\n",
       "</style>\n",
       "<table border=\"1\" class=\"dataframe\">\n",
       "  <thead>\n",
       "    <tr style=\"text-align: right;\">\n",
       "      <th></th>\n",
       "      <th>bathrooms</th>\n",
       "      <th>bedrooms</th>\n",
       "      <th>square_feet</th>\n",
       "      <th>fips_code</th>\n",
       "      <th>home_value</th>\n",
       "      <th>tax_amount</th>\n",
       "      <th>tax_rate</th>\n",
       "    </tr>\n",
       "  </thead>\n",
       "  <tbody>\n",
       "    <tr>\n",
       "      <th>count</th>\n",
       "      <td>14989.000000</td>\n",
       "      <td>14989.000000</td>\n",
       "      <td>14989.000000</td>\n",
       "      <td>14989.000000</td>\n",
       "      <td>1.498900e+04</td>\n",
       "      <td>14989.000000</td>\n",
       "      <td>14989.000000</td>\n",
       "    </tr>\n",
       "    <tr>\n",
       "      <th>mean</th>\n",
       "      <td>2.329175</td>\n",
       "      <td>3.316899</td>\n",
       "      <td>1943.199013</td>\n",
       "      <td>6049.382547</td>\n",
       "      <td>5.417072e+05</td>\n",
       "      <td>6597.894501</td>\n",
       "      <td>0.013430</td>\n",
       "    </tr>\n",
       "    <tr>\n",
       "      <th>std</th>\n",
       "      <td>1.019406</td>\n",
       "      <td>0.936278</td>\n",
       "      <td>1001.275534</td>\n",
       "      <td>21.226074</td>\n",
       "      <td>7.309616e+05</td>\n",
       "      <td>8453.776520</td>\n",
       "      <td>0.006885</td>\n",
       "    </tr>\n",
       "    <tr>\n",
       "      <th>min</th>\n",
       "      <td>1.000000</td>\n",
       "      <td>1.000000</td>\n",
       "      <td>300.000000</td>\n",
       "      <td>6037.000000</td>\n",
       "      <td>1.050400e+04</td>\n",
       "      <td>51.260000</td>\n",
       "      <td>0.000787</td>\n",
       "    </tr>\n",
       "    <tr>\n",
       "      <th>25%</th>\n",
       "      <td>2.000000</td>\n",
       "      <td>3.000000</td>\n",
       "      <td>1276.000000</td>\n",
       "      <td>6037.000000</td>\n",
       "      <td>1.990000e+05</td>\n",
       "      <td>2710.810000</td>\n",
       "      <td>0.011602</td>\n",
       "    </tr>\n",
       "    <tr>\n",
       "      <th>50%</th>\n",
       "      <td>2.000000</td>\n",
       "      <td>3.000000</td>\n",
       "      <td>1680.000000</td>\n",
       "      <td>6037.000000</td>\n",
       "      <td>3.852590e+05</td>\n",
       "      <td>4776.080000</td>\n",
       "      <td>0.012305</td>\n",
       "    </tr>\n",
       "    <tr>\n",
       "      <th>75%</th>\n",
       "      <td>3.000000</td>\n",
       "      <td>4.000000</td>\n",
       "      <td>2346.000000</td>\n",
       "      <td>6059.000000</td>\n",
       "      <td>6.449720e+05</td>\n",
       "      <td>7678.440000</td>\n",
       "      <td>0.013693</td>\n",
       "    </tr>\n",
       "    <tr>\n",
       "      <th>max</th>\n",
       "      <td>11.000000</td>\n",
       "      <td>12.000000</td>\n",
       "      <td>15450.000000</td>\n",
       "      <td>6111.000000</td>\n",
       "      <td>2.385837e+07</td>\n",
       "      <td>276797.830000</td>\n",
       "      <td>0.452884</td>\n",
       "    </tr>\n",
       "  </tbody>\n",
       "</table>\n",
       "</div>"
      ],
      "text/plain": [
       "          bathrooms      bedrooms   square_feet     fips_code    home_value  \\\n",
       "count  14989.000000  14989.000000  14989.000000  14989.000000  1.498900e+04   \n",
       "mean       2.329175      3.316899   1943.199013   6049.382547  5.417072e+05   \n",
       "std        1.019406      0.936278   1001.275534     21.226074  7.309616e+05   \n",
       "min        1.000000      1.000000    300.000000   6037.000000  1.050400e+04   \n",
       "25%        2.000000      3.000000   1276.000000   6037.000000  1.990000e+05   \n",
       "50%        2.000000      3.000000   1680.000000   6037.000000  3.852590e+05   \n",
       "75%        3.000000      4.000000   2346.000000   6059.000000  6.449720e+05   \n",
       "max       11.000000     12.000000  15450.000000   6111.000000  2.385837e+07   \n",
       "\n",
       "          tax_amount      tax_rate  \n",
       "count   14989.000000  14989.000000  \n",
       "mean     6597.894501      0.013430  \n",
       "std      8453.776520      0.006885  \n",
       "min        51.260000      0.000787  \n",
       "25%      2710.810000      0.011602  \n",
       "50%      4776.080000      0.012305  \n",
       "75%      7678.440000      0.013693  \n",
       "max    276797.830000      0.452884  "
      ]
     },
     "execution_count": 7,
     "metadata": {},
     "output_type": "execute_result"
    }
   ],
   "source": [
    "df.describe()"
   ]
  },
  {
   "cell_type": "code",
   "execution_count": 8,
   "metadata": {},
   "outputs": [],
   "source": [
    "train, test = ss.split_my_data(df)"
   ]
  },
  {
   "cell_type": "code",
   "execution_count": 9,
   "metadata": {},
   "outputs": [
    {
     "data": {
      "text/html": [
       "<div>\n",
       "<style scoped>\n",
       "    .dataframe tbody tr th:only-of-type {\n",
       "        vertical-align: middle;\n",
       "    }\n",
       "\n",
       "    .dataframe tbody tr th {\n",
       "        vertical-align: top;\n",
       "    }\n",
       "\n",
       "    .dataframe thead th {\n",
       "        text-align: right;\n",
       "    }\n",
       "</style>\n",
       "<table border=\"1\" class=\"dataframe\">\n",
       "  <thead>\n",
       "    <tr style=\"text-align: right;\">\n",
       "      <th></th>\n",
       "      <th>bathrooms</th>\n",
       "      <th>bedrooms</th>\n",
       "      <th>square_feet</th>\n",
       "      <th>fips_code</th>\n",
       "      <th>property_description</th>\n",
       "      <th>home_value</th>\n",
       "      <th>tax_amount</th>\n",
       "      <th>tax_rate</th>\n",
       "      <th>transaction_date</th>\n",
       "      <th>county</th>\n",
       "    </tr>\n",
       "  </thead>\n",
       "  <tbody>\n",
       "    <tr>\n",
       "      <th>14440</th>\n",
       "      <td>2.0</td>\n",
       "      <td>3.0</td>\n",
       "      <td>1410.0</td>\n",
       "      <td>6037</td>\n",
       "      <td>Single Family Residential</td>\n",
       "      <td>100794.0</td>\n",
       "      <td>2269.73</td>\n",
       "      <td>0.022519</td>\n",
       "      <td>2017-06-30</td>\n",
       "      <td>Los Angeles County</td>\n",
       "    </tr>\n",
       "    <tr>\n",
       "      <th>6848</th>\n",
       "      <td>1.0</td>\n",
       "      <td>2.0</td>\n",
       "      <td>806.0</td>\n",
       "      <td>6037</td>\n",
       "      <td>Single Family Residential</td>\n",
       "      <td>270789.0</td>\n",
       "      <td>3686.09</td>\n",
       "      <td>0.013612</td>\n",
       "      <td>2017-05-31</td>\n",
       "      <td>Los Angeles County</td>\n",
       "    </tr>\n",
       "    <tr>\n",
       "      <th>14624</th>\n",
       "      <td>2.0</td>\n",
       "      <td>3.0</td>\n",
       "      <td>1821.0</td>\n",
       "      <td>6037</td>\n",
       "      <td>Single Family Residential</td>\n",
       "      <td>238358.0</td>\n",
       "      <td>3132.04</td>\n",
       "      <td>0.013140</td>\n",
       "      <td>2017-06-30</td>\n",
       "      <td>Los Angeles County</td>\n",
       "    </tr>\n",
       "    <tr>\n",
       "      <th>10263</th>\n",
       "      <td>2.0</td>\n",
       "      <td>4.0</td>\n",
       "      <td>1697.0</td>\n",
       "      <td>6111</td>\n",
       "      <td>Single Family Residential</td>\n",
       "      <td>365558.0</td>\n",
       "      <td>4139.56</td>\n",
       "      <td>0.011324</td>\n",
       "      <td>2017-06-15</td>\n",
       "      <td>Ventura County</td>\n",
       "    </tr>\n",
       "    <tr>\n",
       "      <th>4870</th>\n",
       "      <td>2.0</td>\n",
       "      <td>3.0</td>\n",
       "      <td>1618.0</td>\n",
       "      <td>6059</td>\n",
       "      <td>Single Family Residential</td>\n",
       "      <td>70667.0</td>\n",
       "      <td>1038.24</td>\n",
       "      <td>0.014692</td>\n",
       "      <td>2017-05-23</td>\n",
       "      <td>Orange County</td>\n",
       "    </tr>\n",
       "  </tbody>\n",
       "</table>\n",
       "</div>"
      ],
      "text/plain": [
       "       bathrooms  bedrooms  square_feet  fips_code       property_description  \\\n",
       "14440        2.0       3.0       1410.0       6037  Single Family Residential   \n",
       "6848         1.0       2.0        806.0       6037  Single Family Residential   \n",
       "14624        2.0       3.0       1821.0       6037  Single Family Residential   \n",
       "10263        2.0       4.0       1697.0       6111  Single Family Residential   \n",
       "4870         2.0       3.0       1618.0       6059  Single Family Residential   \n",
       "\n",
       "       home_value  tax_amount  tax_rate transaction_date              county  \n",
       "14440    100794.0     2269.73  0.022519       2017-06-30  Los Angeles County  \n",
       "6848     270789.0     3686.09  0.013612       2017-05-31  Los Angeles County  \n",
       "14624    238358.0     3132.04  0.013140       2017-06-30  Los Angeles County  \n",
       "10263    365558.0     4139.56  0.011324       2017-06-15      Ventura County  \n",
       "4870      70667.0     1038.24  0.014692       2017-05-23       Orange County  "
      ]
     },
     "execution_count": 9,
     "metadata": {},
     "output_type": "execute_result"
    }
   ],
   "source": [
    "train.head()"
   ]
  },
  {
   "cell_type": "code",
   "execution_count": 10,
   "metadata": {},
   "outputs": [
    {
     "data": {
      "text/html": [
       "<div>\n",
       "<style scoped>\n",
       "    .dataframe tbody tr th:only-of-type {\n",
       "        vertical-align: middle;\n",
       "    }\n",
       "\n",
       "    .dataframe tbody tr th {\n",
       "        vertical-align: top;\n",
       "    }\n",
       "\n",
       "    .dataframe thead th {\n",
       "        text-align: right;\n",
       "    }\n",
       "</style>\n",
       "<table border=\"1\" class=\"dataframe\">\n",
       "  <thead>\n",
       "    <tr style=\"text-align: right;\">\n",
       "      <th></th>\n",
       "      <th>bathrooms</th>\n",
       "      <th>bedrooms</th>\n",
       "      <th>square_feet</th>\n",
       "      <th>fips_code</th>\n",
       "      <th>property_description</th>\n",
       "      <th>home_value</th>\n",
       "      <th>tax_amount</th>\n",
       "      <th>tax_rate</th>\n",
       "      <th>transaction_date</th>\n",
       "      <th>county</th>\n",
       "    </tr>\n",
       "  </thead>\n",
       "  <tbody>\n",
       "    <tr>\n",
       "      <th>7790</th>\n",
       "      <td>2.5</td>\n",
       "      <td>3.0</td>\n",
       "      <td>2210.0</td>\n",
       "      <td>6059</td>\n",
       "      <td>Single Family Residential</td>\n",
       "      <td>949258.0</td>\n",
       "      <td>9624.54</td>\n",
       "      <td>0.010139</td>\n",
       "      <td>2017-06-02</td>\n",
       "      <td>Orange County</td>\n",
       "    </tr>\n",
       "    <tr>\n",
       "      <th>406</th>\n",
       "      <td>2.5</td>\n",
       "      <td>4.0</td>\n",
       "      <td>2373.0</td>\n",
       "      <td>6059</td>\n",
       "      <td>Single Family Residential</td>\n",
       "      <td>674071.0</td>\n",
       "      <td>7572.44</td>\n",
       "      <td>0.011234</td>\n",
       "      <td>2017-05-02</td>\n",
       "      <td>Orange County</td>\n",
       "    </tr>\n",
       "    <tr>\n",
       "      <th>5985</th>\n",
       "      <td>2.0</td>\n",
       "      <td>4.0</td>\n",
       "      <td>1919.0</td>\n",
       "      <td>6037</td>\n",
       "      <td>Single Family Residential</td>\n",
       "      <td>286663.0</td>\n",
       "      <td>5219.87</td>\n",
       "      <td>0.018209</td>\n",
       "      <td>2017-05-26</td>\n",
       "      <td>Los Angeles County</td>\n",
       "    </tr>\n",
       "    <tr>\n",
       "      <th>5554</th>\n",
       "      <td>2.0</td>\n",
       "      <td>4.0</td>\n",
       "      <td>1600.0</td>\n",
       "      <td>6059</td>\n",
       "      <td>Single Family Residential</td>\n",
       "      <td>400489.0</td>\n",
       "      <td>4608.84</td>\n",
       "      <td>0.011508</td>\n",
       "      <td>2017-05-25</td>\n",
       "      <td>Orange County</td>\n",
       "    </tr>\n",
       "    <tr>\n",
       "      <th>14479</th>\n",
       "      <td>3.0</td>\n",
       "      <td>3.0</td>\n",
       "      <td>1824.0</td>\n",
       "      <td>6037</td>\n",
       "      <td>Single Family Residential</td>\n",
       "      <td>495000.0</td>\n",
       "      <td>6126.89</td>\n",
       "      <td>0.012378</td>\n",
       "      <td>2017-06-30</td>\n",
       "      <td>Los Angeles County</td>\n",
       "    </tr>\n",
       "  </tbody>\n",
       "</table>\n",
       "</div>"
      ],
      "text/plain": [
       "       bathrooms  bedrooms  square_feet  fips_code       property_description  \\\n",
       "7790         2.5       3.0       2210.0       6059  Single Family Residential   \n",
       "406          2.5       4.0       2373.0       6059  Single Family Residential   \n",
       "5985         2.0       4.0       1919.0       6037  Single Family Residential   \n",
       "5554         2.0       4.0       1600.0       6059  Single Family Residential   \n",
       "14479        3.0       3.0       1824.0       6037  Single Family Residential   \n",
       "\n",
       "       home_value  tax_amount  tax_rate transaction_date              county  \n",
       "7790     949258.0     9624.54  0.010139       2017-06-02       Orange County  \n",
       "406      674071.0     7572.44  0.011234       2017-05-02       Orange County  \n",
       "5985     286663.0     5219.87  0.018209       2017-05-26  Los Angeles County  \n",
       "5554     400489.0     4608.84  0.011508       2017-05-25       Orange County  \n",
       "14479    495000.0     6126.89  0.012378       2017-06-30  Los Angeles County  "
      ]
     },
     "execution_count": 10,
     "metadata": {},
     "output_type": "execute_result"
    }
   ],
   "source": [
    "test.head()"
   ]
  },
  {
   "cell_type": "code",
   "execution_count": 11,
   "metadata": {},
   "outputs": [
    {
     "data": {
      "text/plain": [
       "0.7999866568817132"
      ]
     },
     "execution_count": 11,
     "metadata": {},
     "output_type": "execute_result"
    }
   ],
   "source": [
    "train.shape[0] / df.shape[0]"
   ]
  },
  {
   "cell_type": "code",
   "execution_count": 12,
   "metadata": {},
   "outputs": [
    {
     "data": {
      "text/plain": [
       "0.20001334311828675"
      ]
     },
     "execution_count": 12,
     "metadata": {},
     "output_type": "execute_result"
    }
   ],
   "source": [
    "test.shape[0] / df.shape[0]"
   ]
  },
  {
   "cell_type": "code",
   "execution_count": 13,
   "metadata": {},
   "outputs": [],
   "source": [
    "train = train[[\"square_feet\", \"bedrooms\", \"bathrooms\", \"home_value\"]]\n",
    "test = test[[\"square_feet\", \"bedrooms\", \"bathrooms\", \"home_value\"]]"
   ]
  },
  {
   "cell_type": "code",
   "execution_count": 14,
   "metadata": {},
   "outputs": [
    {
     "data": {
      "text/html": [
       "<div>\n",
       "<style scoped>\n",
       "    .dataframe tbody tr th:only-of-type {\n",
       "        vertical-align: middle;\n",
       "    }\n",
       "\n",
       "    .dataframe tbody tr th {\n",
       "        vertical-align: top;\n",
       "    }\n",
       "\n",
       "    .dataframe thead th {\n",
       "        text-align: right;\n",
       "    }\n",
       "</style>\n",
       "<table border=\"1\" class=\"dataframe\">\n",
       "  <thead>\n",
       "    <tr style=\"text-align: right;\">\n",
       "      <th></th>\n",
       "      <th>square_feet</th>\n",
       "      <th>bedrooms</th>\n",
       "      <th>bathrooms</th>\n",
       "      <th>home_value</th>\n",
       "    </tr>\n",
       "  </thead>\n",
       "  <tbody>\n",
       "    <tr>\n",
       "      <th>14440</th>\n",
       "      <td>1410.0</td>\n",
       "      <td>3.0</td>\n",
       "      <td>2.0</td>\n",
       "      <td>100794.0</td>\n",
       "    </tr>\n",
       "    <tr>\n",
       "      <th>6848</th>\n",
       "      <td>806.0</td>\n",
       "      <td>2.0</td>\n",
       "      <td>1.0</td>\n",
       "      <td>270789.0</td>\n",
       "    </tr>\n",
       "    <tr>\n",
       "      <th>14624</th>\n",
       "      <td>1821.0</td>\n",
       "      <td>3.0</td>\n",
       "      <td>2.0</td>\n",
       "      <td>238358.0</td>\n",
       "    </tr>\n",
       "    <tr>\n",
       "      <th>10263</th>\n",
       "      <td>1697.0</td>\n",
       "      <td>4.0</td>\n",
       "      <td>2.0</td>\n",
       "      <td>365558.0</td>\n",
       "    </tr>\n",
       "    <tr>\n",
       "      <th>4870</th>\n",
       "      <td>1618.0</td>\n",
       "      <td>3.0</td>\n",
       "      <td>2.0</td>\n",
       "      <td>70667.0</td>\n",
       "    </tr>\n",
       "  </tbody>\n",
       "</table>\n",
       "</div>"
      ],
      "text/plain": [
       "       square_feet  bedrooms  bathrooms  home_value\n",
       "14440       1410.0       3.0        2.0    100794.0\n",
       "6848         806.0       2.0        1.0    270789.0\n",
       "14624       1821.0       3.0        2.0    238358.0\n",
       "10263       1697.0       4.0        2.0    365558.0\n",
       "4870        1618.0       3.0        2.0     70667.0"
      ]
     },
     "execution_count": 14,
     "metadata": {},
     "output_type": "execute_result"
    }
   ],
   "source": [
    "train.head()"
   ]
  },
  {
   "cell_type": "code",
   "execution_count": 15,
   "metadata": {},
   "outputs": [
    {
     "data": {
      "text/html": [
       "<div>\n",
       "<style scoped>\n",
       "    .dataframe tbody tr th:only-of-type {\n",
       "        vertical-align: middle;\n",
       "    }\n",
       "\n",
       "    .dataframe tbody tr th {\n",
       "        vertical-align: top;\n",
       "    }\n",
       "\n",
       "    .dataframe thead th {\n",
       "        text-align: right;\n",
       "    }\n",
       "</style>\n",
       "<table border=\"1\" class=\"dataframe\">\n",
       "  <thead>\n",
       "    <tr style=\"text-align: right;\">\n",
       "      <th></th>\n",
       "      <th>square_feet</th>\n",
       "      <th>bedrooms</th>\n",
       "      <th>bathrooms</th>\n",
       "      <th>home_value</th>\n",
       "    </tr>\n",
       "  </thead>\n",
       "  <tbody>\n",
       "    <tr>\n",
       "      <th>7790</th>\n",
       "      <td>2210.0</td>\n",
       "      <td>3.0</td>\n",
       "      <td>2.5</td>\n",
       "      <td>949258.0</td>\n",
       "    </tr>\n",
       "    <tr>\n",
       "      <th>406</th>\n",
       "      <td>2373.0</td>\n",
       "      <td>4.0</td>\n",
       "      <td>2.5</td>\n",
       "      <td>674071.0</td>\n",
       "    </tr>\n",
       "    <tr>\n",
       "      <th>5985</th>\n",
       "      <td>1919.0</td>\n",
       "      <td>4.0</td>\n",
       "      <td>2.0</td>\n",
       "      <td>286663.0</td>\n",
       "    </tr>\n",
       "    <tr>\n",
       "      <th>5554</th>\n",
       "      <td>1600.0</td>\n",
       "      <td>4.0</td>\n",
       "      <td>2.0</td>\n",
       "      <td>400489.0</td>\n",
       "    </tr>\n",
       "    <tr>\n",
       "      <th>14479</th>\n",
       "      <td>1824.0</td>\n",
       "      <td>3.0</td>\n",
       "      <td>3.0</td>\n",
       "      <td>495000.0</td>\n",
       "    </tr>\n",
       "  </tbody>\n",
       "</table>\n",
       "</div>"
      ],
      "text/plain": [
       "       square_feet  bedrooms  bathrooms  home_value\n",
       "7790        2210.0       3.0        2.5    949258.0\n",
       "406         2373.0       4.0        2.5    674071.0\n",
       "5985        1919.0       4.0        2.0    286663.0\n",
       "5554        1600.0       4.0        2.0    400489.0\n",
       "14479       1824.0       3.0        3.0    495000.0"
      ]
     },
     "execution_count": 15,
     "metadata": {},
     "output_type": "execute_result"
    }
   ],
   "source": [
    "test.head()"
   ]
  },
  {
   "cell_type": "markdown",
   "metadata": {},
   "source": [
    "---\n",
    "### 2. Explore"
   ]
  },
  {
   "cell_type": "markdown",
   "metadata": {},
   "source": [
    "#### Distribution of Tax Rates by County"
   ]
  },
  {
   "cell_type": "code",
   "execution_count": 16,
   "metadata": {},
   "outputs": [
    {
     "data": {
      "image/png": "[encoded data removed]",
      "text/plain": [
       "<Figure size 1152x288 with 1 Axes>"
      ]
     },
     "metadata": {
      "needs_background": "light"
     },
     "output_type": "display_data"
    },
    {
     "data": {
      "image/png": "[encoded data removed]",
      "text/plain": [
       "<Figure size 1152x288 with 1 Axes>"
      ]
     },
     "metadata": {
      "needs_background": "light"
     },
     "output_type": "display_data"
    },
    {
     "data": {
      "image/png": "[encoded data removed]",
      "text/plain": [
       "<Figure size 1152x288 with 1 Axes>"
      ]
     },
     "metadata": {
      "needs_background": "light"
     },
     "output_type": "display_data"
    }
   ],
   "source": [
    "for county in df.county.unique():\n",
    "    plt.figure(figsize=(16, 4))\n",
    "    plt.title(f\"Distribution of Tax Rates in {county} - mean: {df[df.county == county].tax_rate.mean():.3f}; median: {df[df.county == county].tax_rate.median():.3f}, std: {df[df.county == county].tax_rate.std():.3f}\")\n",
    "    sns.distplot(df[df.county == county].tax_rate)\n",
    "    plt.xlabel(\"Tax Rate\")\n",
    "    plt.xlim(0, 0.50)\n",
    "    plt.ylim(0, 400)\n",
    "    plt.show()"
   ]
  },
  {
   "cell_type": "markdown",
   "metadata": {},
   "source": [
    "#### Statistical Testing"
   ]
  },
  {
   "cell_type": "markdown",
   "metadata": {},
   "source": [
    "> Is the home value in Los Angeles County higher than the average home value? \n",
    "\n",
    "$H_0$: There is no difference in home value between homes located in Los Angeles County and the average home.\n",
    "\n",
    "$H_a$: There is a difference in home value between homes located in Los Angeles County and the average home."
   ]
  },
  {
   "cell_type": "code",
   "execution_count": 17,
   "metadata": {},
   "outputs": [
    {
     "name": "stdout",
     "output_type": "stream",
     "text": [
      "t = -3.25\n",
      "p = 0.00116\n",
      "Reject null hypothesis.\n"
     ]
    }
   ],
   "source": [
    "alpha = .01\n",
    "\n",
    "x = df[df.county == \"Los Angeles County\"].home_value\n",
    "mu = df.home_value.mean()\n",
    "\n",
    "t_stat, p = stats.ttest_1samp(x, mu)\n",
    "print(f\"t = {t_stat:.3}\")\n",
    "print(f\"p = {p:.3}\")\n",
    "\n",
    "if p < alpha:\n",
    "    print(\"Reject null hypothesis.\")\n",
    "else:\n",
    "    print(\"Fail to reject null hypothesis\")"
   ]
  },
  {
   "cell_type": "markdown",
   "metadata": {},
   "source": [
    "> Is the tax rate correlated with square feet? \n",
    "\n",
    "$H_0$: There is no linear relationship between tax rate and square feet.\n",
    "\n",
    "$H_a$: There is a linear relationship between tax rate and square feet."
   ]
  },
  {
   "cell_type": "code",
   "execution_count": 18,
   "metadata": {},
   "outputs": [
    {
     "name": "stdout",
     "output_type": "stream",
     "text": [
      "r = -0.095110457255379\n",
      "p = 1.8180142636792613e-31\n",
      "Reject null hypothesis.\n"
     ]
    }
   ],
   "source": [
    "r, p = stats.pearsonr(df.tax_rate, df.square_feet)\n",
    "print(\"r =\", r)\n",
    "print(\"p =\", p)\n",
    "\n",
    "if p < alpha:\n",
    "    print(\"Reject null hypothesis.\")\n",
    "else:\n",
    "    print(\"Fail to reject null hypothesis\")"
   ]
  },
  {
   "cell_type": "code",
   "execution_count": 19,
   "metadata": {},
   "outputs": [
    {
     "data": {
      "image/png": "[encoded data removed]",
      "text/plain": [
       "<Figure size 1152x576 with 2 Axes>"
      ]
     },
     "metadata": {
      "needs_background": "light"
     },
     "output_type": "display_data"
    }
   ],
   "source": [
    "plt.figure(figsize=(16, 8))\n",
    "sns.heatmap(df.corr(), annot=True)\n",
    "plt.show()"
   ]
  },
  {
   "cell_type": "markdown",
   "metadata": {},
   "source": [
    "#### Plotting Variable Pairs of Train DataFrame"
   ]
  },
  {
   "cell_type": "code",
   "execution_count": 20,
   "metadata": {},
   "outputs": [
    {
     "data": {
      "text/plain": [
       "<Figure size 1152x576 with 0 Axes>"
      ]
     },
     "metadata": {},
     "output_type": "display_data"
    },
    {
     "data": {
      "image/png": "[encoded data removed]",
      "text/plain": [
       "<Figure size 720x720 with 20 Axes>"
      ]
     },
     "metadata": {
      "needs_background": "light"
     },
     "output_type": "display_data"
    }
   ],
   "source": [
    "plt.figure(figsize=(16, 8))\n",
    "sns.pairplot(data=train, kind=\"reg\", plot_kws={\"line_kws\": {\"color\": sns.color_palette(\"colorblind\")[4]}})\n",
    "plt.show()"
   ]
  },
  {
   "cell_type": "markdown",
   "metadata": {},
   "source": [
    "> **Observations**:\n",
    ">    - square_feet and bathrooms have a strong, positive linear relationship\n",
    ">    - home_value and square_feet have a strong, positive linear relationship\n",
    ">    - home_value and bedrooms have a positive linear relationship\n",
    ">    - home_value and bathrooms have a positive linear relationship\n",
    ">    - bathrooms and bedrooms have a positive linear relationship"
   ]
  },
  {
   "cell_type": "markdown",
   "metadata": {},
   "source": [
    "---\n",
    "### 3. Model"
   ]
  },
  {
   "cell_type": "markdown",
   "metadata": {},
   "source": [
    "### Hypothesis\n",
    "\n",
    "$H_0$: Single unit property value is independent of square footage, number of bedrooms, and number of bathrooms\n",
    "\n",
    "$H_a$: Single unit property value is dependent on square footage, number of bedrooms, and number of bathrooms"
   ]
  },
  {
   "cell_type": "markdown",
   "metadata": {},
   "source": [
    "---\n",
    "#### Linear Regression Model"
   ]
  },
  {
   "cell_type": "code",
   "execution_count": 21,
   "metadata": {},
   "outputs": [],
   "source": [
    "pd.options.display.float_format = '{:.3f}'.format"
   ]
  },
  {
   "cell_type": "code",
   "execution_count": 22,
   "metadata": {},
   "outputs": [
    {
     "name": "stdout",
     "output_type": "stream",
     "text": [
      "Mean home_value = 539045.85\n",
      "Median home_value = 387093.00\n"
     ]
    }
   ],
   "source": [
    "print(f\"Mean home_value = {train.home_value.mean():.2f}\")\n",
    "print(f\"Median home_value = {train.home_value.median():.2f}\")"
   ]
  },
  {
   "cell_type": "markdown",
   "metadata": {},
   "source": [
    "> I chose the median home_value of the train dataset to be my baseline because the mean is heavily influenced by outliers."
   ]
  },
  {
   "cell_type": "code",
   "execution_count": 23,
   "metadata": {},
   "outputs": [
    {
     "data": {
      "text/html": [
       "<div>\n",
       "<style scoped>\n",
       "    .dataframe tbody tr th:only-of-type {\n",
       "        vertical-align: middle;\n",
       "    }\n",
       "\n",
       "    .dataframe tbody tr th {\n",
       "        vertical-align: top;\n",
       "    }\n",
       "\n",
       "    .dataframe thead th {\n",
       "        text-align: right;\n",
       "    }\n",
       "</style>\n",
       "<table border=\"1\" class=\"dataframe\">\n",
       "  <thead>\n",
       "    <tr style=\"text-align: right;\">\n",
       "      <th></th>\n",
       "      <th>actual_home_value</th>\n",
       "      <th>baseline_home_value</th>\n",
       "    </tr>\n",
       "  </thead>\n",
       "  <tbody>\n",
       "    <tr>\n",
       "      <th>14440</th>\n",
       "      <td>100794.000</td>\n",
       "      <td>387093.000</td>\n",
       "    </tr>\n",
       "    <tr>\n",
       "      <th>6848</th>\n",
       "      <td>270789.000</td>\n",
       "      <td>387093.000</td>\n",
       "    </tr>\n",
       "    <tr>\n",
       "      <th>14624</th>\n",
       "      <td>238358.000</td>\n",
       "      <td>387093.000</td>\n",
       "    </tr>\n",
       "    <tr>\n",
       "      <th>10263</th>\n",
       "      <td>365558.000</td>\n",
       "      <td>387093.000</td>\n",
       "    </tr>\n",
       "    <tr>\n",
       "      <th>4870</th>\n",
       "      <td>70667.000</td>\n",
       "      <td>387093.000</td>\n",
       "    </tr>\n",
       "  </tbody>\n",
       "</table>\n",
       "</div>"
      ],
      "text/plain": [
       "       actual_home_value  baseline_home_value\n",
       "14440         100794.000           387093.000\n",
       "6848          270789.000           387093.000\n",
       "14624         238358.000           387093.000\n",
       "10263         365558.000           387093.000\n",
       "4870           70667.000           387093.000"
      ]
     },
     "execution_count": 23,
     "metadata": {},
     "output_type": "execute_result"
    }
   ],
   "source": [
    "predictions = pd.DataFrame({\n",
    "    \"actual_home_value\": train.home_value,\n",
    "    \"baseline_home_value\": train.home_value.median()\n",
    "})\n",
    "predictions.head()"
   ]
  },
  {
   "cell_type": "code",
   "execution_count": 24,
   "metadata": {},
   "outputs": [
    {
     "data": {
      "text/plain": [
       "(11991, 4)"
      ]
     },
     "execution_count": 24,
     "metadata": {},
     "output_type": "execute_result"
    }
   ],
   "source": [
    "train.shape"
   ]
  },
  {
   "cell_type": "code",
   "execution_count": 25,
   "metadata": {
    "scrolled": false
   },
   "outputs": [
    {
     "data": {
      "text/html": [
       "<div>\n",
       "<style scoped>\n",
       "    .dataframe tbody tr th:only-of-type {\n",
       "        vertical-align: middle;\n",
       "    }\n",
       "\n",
       "    .dataframe tbody tr th {\n",
       "        vertical-align: top;\n",
       "    }\n",
       "\n",
       "    .dataframe thead th {\n",
       "        text-align: right;\n",
       "    }\n",
       "</style>\n",
       "<table border=\"1\" class=\"dataframe\">\n",
       "  <thead>\n",
       "    <tr style=\"text-align: right;\">\n",
       "      <th></th>\n",
       "      <th>actual_home_value</th>\n",
       "      <th>baseline_home_value</th>\n",
       "      <th>home_value ~ square_feet + bedrooms + bedrooms</th>\n",
       "    </tr>\n",
       "  </thead>\n",
       "  <tbody>\n",
       "    <tr>\n",
       "      <th>14440</th>\n",
       "      <td>100794.000</td>\n",
       "      <td>387093.000</td>\n",
       "      <td>316618.996</td>\n",
       "    </tr>\n",
       "    <tr>\n",
       "      <th>6848</th>\n",
       "      <td>270789.000</td>\n",
       "      <td>387093.000</td>\n",
       "      <td>113190.188</td>\n",
       "    </tr>\n",
       "    <tr>\n",
       "      <th>14624</th>\n",
       "      <td>238358.000</td>\n",
       "      <td>387093.000</td>\n",
       "      <td>503913.254</td>\n",
       "    </tr>\n",
       "    <tr>\n",
       "      <th>10263</th>\n",
       "      <td>365558.000</td>\n",
       "      <td>387093.000</td>\n",
       "      <td>310619.601</td>\n",
       "    </tr>\n",
       "    <tr>\n",
       "      <th>4870</th>\n",
       "      <td>70667.000</td>\n",
       "      <td>387093.000</td>\n",
       "      <td>411405.384</td>\n",
       "    </tr>\n",
       "  </tbody>\n",
       "</table>\n",
       "</div>"
      ],
      "text/plain": [
       "       actual_home_value  baseline_home_value  \\\n",
       "14440         100794.000           387093.000   \n",
       "6848          270789.000           387093.000   \n",
       "14624         238358.000           387093.000   \n",
       "10263         365558.000           387093.000   \n",
       "4870           70667.000           387093.000   \n",
       "\n",
       "       home_value ~ square_feet + bedrooms + bedrooms  \n",
       "14440                                      316618.996  \n",
       "6848                                       113190.188  \n",
       "14624                                      503913.254  \n",
       "10263                                      310619.601  \n",
       "4870                                       411405.384  "
      ]
     },
     "execution_count": 25,
     "metadata": {},
     "output_type": "execute_result"
    }
   ],
   "source": [
    "# feature\n",
    "X = train[[\"square_feet\", \"bedrooms\", \"bathrooms\"]]\n",
    "# target\n",
    "y = train.home_value\n",
    "\n",
    "# 1. Make the model\n",
    "lm = sklearn.linear_model.LinearRegression()\n",
    "# 2. Fit the model\n",
    "lm.fit(X, y)\n",
    "# 3. Use the model\n",
    "predictions[\"home_value ~ square_feet + bedrooms + bedrooms\"] = lm.predict(X)\n",
    "predictions.head()"
   ]
  },
  {
   "cell_type": "code",
   "execution_count": 26,
   "metadata": {
    "scrolled": false
   },
   "outputs": [
    {
     "data": {
      "image/png": "[encoded data removed]",
      "text/plain": [
       "<Figure size 1152x576 with 1 Axes>"
      ]
     },
     "metadata": {
      "needs_background": "light"
     },
     "output_type": "display_data"
    }
   ],
   "source": [
    "plt.figure(figsize=(16, 8))\n",
    "ev.plot_residuals(predictions.actual_home_value, predictions[\"home_value ~ square_feet + bedrooms + bedrooms\"])\n",
    "plt.ticklabel_format(axis=\"both\", style=\"plain\")\n",
    "plt.show()"
   ]
  },
  {
   "cell_type": "code",
   "execution_count": 27,
   "metadata": {},
   "outputs": [
    {
     "name": "stdout",
     "output_type": "stream",
     "text": [
      "The equation of our regression line is: \n",
      "y = (455.70 * square_feet) + (-136786.38 * bedrooms) + (64970.10 * bathrooms) + -45504.40\n"
     ]
    }
   ],
   "source": [
    "print(f\"\"\"The equation of our regression line is: \n",
    "y = ({lm.coef_[0]:.2f} * square_feet) + ({lm.coef_[1]:.2f} * bedrooms) + ({lm.coef_[-1]:.2f} * bathrooms) + {lm.intercept_:.2f}\"\"\")"
   ]
  },
  {
   "cell_type": "code",
   "execution_count": 28,
   "metadata": {},
   "outputs": [
    {
     "data": {
      "text/plain": [
       "SSE    3861956734638948.500\n",
       "ESS    2276905404349229.000\n",
       "TSS    6138862138988178.000\n",
       "MSE        322071281347.590\n",
       "RMSE             567513.243\n",
       "dtype: float64"
      ]
     },
     "execution_count": 28,
     "metadata": {},
     "output_type": "execute_result"
    }
   ],
   "source": [
    "ev.regression_errors(predictions.actual_home_value, predictions[\"home_value ~ square_feet + bedrooms + bedrooms\"], predictions)"
   ]
  },
  {
   "cell_type": "code",
   "execution_count": 29,
   "metadata": {},
   "outputs": [
    {
     "data": {
      "text/plain": [
       "actual_home_value                                     0.000\n",
       "baseline_home_value                              731468.032\n",
       "home_value ~ square_feet + bedrooms + bedrooms   567513.243\n",
       "dtype: float64"
      ]
     },
     "execution_count": 29,
     "metadata": {},
     "output_type": "execute_result"
    }
   ],
   "source": [
    "predictions.apply(lambda c: math.sqrt(sklearn.metrics.mean_squared_error(predictions.actual_home_value, c)))"
   ]
  },
  {
   "cell_type": "code",
   "execution_count": 30,
   "metadata": {},
   "outputs": [
    {
     "name": "stdout",
     "output_type": "stream",
     "text": [
      "Model performs better than baseline\n"
     ]
    }
   ],
   "source": [
    "ev.better_than_baseline(predictions.actual_home_value, predictions[\"home_value ~ square_feet + bedrooms + bedrooms\"], predictions.baseline_home_value, predictions)"
   ]
  },
  {
   "cell_type": "code",
   "execution_count": 31,
   "metadata": {},
   "outputs": [
    {
     "data": {
      "image/png": "[encoded data removed]",
      "text/plain": [
       "<Figure size 1152x576 with 1 Axes>"
      ]
     },
     "metadata": {
      "needs_background": "light"
     },
     "output_type": "display_data"
    }
   ],
   "source": [
    "plt.figure(figsize=(16, 8))\n",
    "sns.regplot(x=predictions.actual_home_value, y=predictions[\"home_value ~ square_feet + bedrooms + bedrooms\"], data=predictions, label=\"home_value ~ square_feet + bedrooms + bedrooms\", line_kws={\"color\": sns.color_palette(\"colorblind\")[4]})\n",
    "plt.ticklabel_format(axis=\"both\", style=\"plain\")\n",
    "\n",
    "plt.title(\"Actual v. Predicted Home Value\")\n",
    "plt.xlabel(\"Actual\")\n",
    "plt.ylabel(\"Predicted\")\n",
    "plt.legend()\n",
    "\n",
    "plt.show()"
   ]
  },
  {
   "cell_type": "markdown",
   "metadata": {},
   "source": [
    "---\n",
    "### Let's test our Linear Regression model"
   ]
  },
  {
   "cell_type": "code",
   "execution_count": 32,
   "metadata": {},
   "outputs": [
    {
     "data": {
      "text/html": [
       "<div>\n",
       "<style scoped>\n",
       "    .dataframe tbody tr th:only-of-type {\n",
       "        vertical-align: middle;\n",
       "    }\n",
       "\n",
       "    .dataframe tbody tr th {\n",
       "        vertical-align: top;\n",
       "    }\n",
       "\n",
       "    .dataframe thead th {\n",
       "        text-align: right;\n",
       "    }\n",
       "</style>\n",
       "<table border=\"1\" class=\"dataframe\">\n",
       "  <thead>\n",
       "    <tr style=\"text-align: right;\">\n",
       "      <th></th>\n",
       "      <th>square_feet</th>\n",
       "      <th>bedrooms</th>\n",
       "      <th>bathrooms</th>\n",
       "      <th>home_value</th>\n",
       "      <th>yhat</th>\n",
       "    </tr>\n",
       "  </thead>\n",
       "  <tbody>\n",
       "    <tr>\n",
       "      <th>7790</th>\n",
       "      <td>2210.000</td>\n",
       "      <td>3.000</td>\n",
       "      <td>2.500</td>\n",
       "      <td>949258.000</td>\n",
       "      <td>713667.080</td>\n",
       "    </tr>\n",
       "    <tr>\n",
       "      <th>406</th>\n",
       "      <td>2373.000</td>\n",
       "      <td>4.000</td>\n",
       "      <td>2.500</td>\n",
       "      <td>674071.000</td>\n",
       "      <td>651160.415</td>\n",
       "    </tr>\n",
       "    <tr>\n",
       "      <th>5985</th>\n",
       "      <td>1919.000</td>\n",
       "      <td>4.000</td>\n",
       "      <td>2.000</td>\n",
       "      <td>286663.000</td>\n",
       "      <td>411785.843</td>\n",
       "    </tr>\n",
       "    <tr>\n",
       "      <th>5554</th>\n",
       "      <td>1600.000</td>\n",
       "      <td>4.000</td>\n",
       "      <td>2.000</td>\n",
       "      <td>400489.000</td>\n",
       "      <td>266416.333</td>\n",
       "    </tr>\n",
       "    <tr>\n",
       "      <th>14479</th>\n",
       "      <td>1824.000</td>\n",
       "      <td>3.000</td>\n",
       "      <td>3.000</td>\n",
       "      <td>495000.000</td>\n",
       "      <td>570250.466</td>\n",
       "    </tr>\n",
       "  </tbody>\n",
       "</table>\n",
       "</div>"
      ],
      "text/plain": [
       "       square_feet  bedrooms  bathrooms  home_value       yhat\n",
       "7790      2210.000     3.000      2.500  949258.000 713667.080\n",
       "406       2373.000     4.000      2.500  674071.000 651160.415\n",
       "5985      1919.000     4.000      2.000  286663.000 411785.843\n",
       "5554      1600.000     4.000      2.000  400489.000 266416.333\n",
       "14479     1824.000     3.000      3.000  495000.000 570250.466"
      ]
     },
     "execution_count": 32,
     "metadata": {},
     "output_type": "execute_result"
    }
   ],
   "source": [
    "X_test = test[[\"square_feet\", \"bedrooms\", \"bathrooms\"]]\n",
    "\n",
    "test[\"yhat\"] = lm.predict(X_test)\n",
    "test.head()"
   ]
  },
  {
   "cell_type": "code",
   "execution_count": 33,
   "metadata": {
    "scrolled": true
   },
   "outputs": [
    {
     "data": {
      "text/plain": [
       "SSE    1082389583418842.125\n",
       "ESS     655770599281738.000\n",
       "TSS    1738160182700580.000\n",
       "MSE        361037219285.805\n",
       "RMSE             600863.728\n",
       "dtype: float64"
      ]
     },
     "execution_count": 33,
     "metadata": {},
     "output_type": "execute_result"
    }
   ],
   "source": [
    "ev.regression_errors(test.home_value, test.yhat, test)"
   ]
  },
  {
   "cell_type": "code",
   "execution_count": 34,
   "metadata": {},
   "outputs": [
    {
     "data": {
      "text/html": [
       "<div>\n",
       "<style scoped>\n",
       "    .dataframe tbody tr th:only-of-type {\n",
       "        vertical-align: middle;\n",
       "    }\n",
       "\n",
       "    .dataframe tbody tr th {\n",
       "        vertical-align: top;\n",
       "    }\n",
       "\n",
       "    .dataframe thead th {\n",
       "        text-align: right;\n",
       "    }\n",
       "</style>\n",
       "<table border=\"1\" class=\"dataframe\">\n",
       "  <thead>\n",
       "    <tr style=\"text-align: right;\">\n",
       "      <th></th>\n",
       "      <th>square_feet</th>\n",
       "      <th>bedrooms</th>\n",
       "      <th>bathrooms</th>\n",
       "      <th>home_value</th>\n",
       "      <th>yhat</th>\n",
       "      <th>yhat_baseline</th>\n",
       "    </tr>\n",
       "  </thead>\n",
       "  <tbody>\n",
       "    <tr>\n",
       "      <th>7790</th>\n",
       "      <td>2210.000</td>\n",
       "      <td>3.000</td>\n",
       "      <td>2.500</td>\n",
       "      <td>949258.000</td>\n",
       "      <td>713667.080</td>\n",
       "      <td>372421.500</td>\n",
       "    </tr>\n",
       "    <tr>\n",
       "      <th>406</th>\n",
       "      <td>2373.000</td>\n",
       "      <td>4.000</td>\n",
       "      <td>2.500</td>\n",
       "      <td>674071.000</td>\n",
       "      <td>651160.415</td>\n",
       "      <td>372421.500</td>\n",
       "    </tr>\n",
       "    <tr>\n",
       "      <th>5985</th>\n",
       "      <td>1919.000</td>\n",
       "      <td>4.000</td>\n",
       "      <td>2.000</td>\n",
       "      <td>286663.000</td>\n",
       "      <td>411785.843</td>\n",
       "      <td>372421.500</td>\n",
       "    </tr>\n",
       "    <tr>\n",
       "      <th>5554</th>\n",
       "      <td>1600.000</td>\n",
       "      <td>4.000</td>\n",
       "      <td>2.000</td>\n",
       "      <td>400489.000</td>\n",
       "      <td>266416.333</td>\n",
       "      <td>372421.500</td>\n",
       "    </tr>\n",
       "    <tr>\n",
       "      <th>14479</th>\n",
       "      <td>1824.000</td>\n",
       "      <td>3.000</td>\n",
       "      <td>3.000</td>\n",
       "      <td>495000.000</td>\n",
       "      <td>570250.466</td>\n",
       "      <td>372421.500</td>\n",
       "    </tr>\n",
       "  </tbody>\n",
       "</table>\n",
       "</div>"
      ],
      "text/plain": [
       "       square_feet  bedrooms  bathrooms  home_value       yhat  yhat_baseline\n",
       "7790      2210.000     3.000      2.500  949258.000 713667.080     372421.500\n",
       "406       2373.000     4.000      2.500  674071.000 651160.415     372421.500\n",
       "5985      1919.000     4.000      2.000  286663.000 411785.843     372421.500\n",
       "5554      1600.000     4.000      2.000  400489.000 266416.333     372421.500\n",
       "14479     1824.000     3.000      3.000  495000.000 570250.466     372421.500"
      ]
     },
     "execution_count": 34,
     "metadata": {},
     "output_type": "execute_result"
    }
   ],
   "source": [
    "test[\"yhat_baseline\"] = test.home_value.median()\n",
    "test.head()"
   ]
  },
  {
   "cell_type": "code",
   "execution_count": 35,
   "metadata": {},
   "outputs": [
    {
     "data": {
      "text/plain": [
       "SSE_baseline    1965933579672869.500\n",
       "MSE_baseline        655748358796.821\n",
       "RMSE_baseline             809782.908\n",
       "dtype: float64"
      ]
     },
     "execution_count": 35,
     "metadata": {},
     "output_type": "execute_result"
    }
   ],
   "source": [
    "ev.baseline_errors(test.home_value, test.yhat_baseline, test)"
   ]
  },
  {
   "cell_type": "code",
   "execution_count": 36,
   "metadata": {},
   "outputs": [
    {
     "name": "stdout",
     "output_type": "stream",
     "text": [
      "Model performs better than baseline\n"
     ]
    }
   ],
   "source": [
    "ev.better_than_baseline(test.home_value, test.yhat, test.yhat_baseline, test)"
   ]
  },
  {
   "cell_type": "code",
   "execution_count": 37,
   "metadata": {},
   "outputs": [
    {
     "data": {
      "text/plain": [
       "yhat            600863.728\n",
       "yhat_baseline   809782.908\n",
       "dtype: float64"
      ]
     },
     "execution_count": 37,
     "metadata": {},
     "output_type": "execute_result"
    }
   ],
   "source": [
    "test.apply(lambda c: math.sqrt(sklearn.metrics.mean_squared_error(test.home_value, c)))[4:]"
   ]
  },
  {
   "cell_type": "code",
   "execution_count": 38,
   "metadata": {},
   "outputs": [
    {
     "name": "stdout",
     "output_type": "stream",
     "text": [
      "Coefficient of determination, or explained variance: 0.42\n"
     ]
    }
   ],
   "source": [
    "print(f'Coefficient of determination, or explained variance: {sklearn.metrics.r2_score(test.home_value, test.yhat):.2f}')"
   ]
  },
  {
   "cell_type": "markdown",
   "metadata": {},
   "source": [
    "> My model is off on it's predictions of home_value by, on average, 600,863.73 dollars which is better than the baseline model by ~200,000 dollars.\n",
    "\n",
    "> 0.42 of the variation in home_value is explained by the square_feet, bedrooms, and bethrooms in my model."
   ]
  },
  {
   "cell_type": "code",
   "execution_count": 39,
   "metadata": {},
   "outputs": [
    {
     "data": {
      "image/png": "[encoded data removed]",
      "text/plain": [
       "<Figure size 1152x576 with 1 Axes>"
      ]
     },
     "metadata": {
      "needs_background": "light"
     },
     "output_type": "display_data"
    }
   ],
   "source": [
    "plt.figure(figsize=(16, 8))\n",
    "sns.regplot(x=test.home_value, y=test.yhat, data=test, label=\"home_value ~ square_feet + bedrooms + bedrooms\", line_kws={\"color\": sns.color_palette(\"colorblind\")[4]})\n",
    "plt.ticklabel_format(axis=\"both\", style=\"plain\")\n",
    "\n",
    "plt.title(\"Actual v. Predicted Home Value\")\n",
    "plt.xlabel(\"Actual\")\n",
    "plt.ylabel(\"Predicted\")\n",
    "plt.legend()\n",
    "\n",
    "plt.show()"
   ]
  },
  {
   "cell_type": "markdown",
   "metadata": {},
   "source": [
    "---\n",
    "#### Using ols to Compare Findings with sklearn "
   ]
  },
  {
   "cell_type": "code",
   "execution_count": 40,
   "metadata": {},
   "outputs": [],
   "source": [
    "model = ols(\"home_value ~ square_feet + bedrooms + bedrooms\", test).fit()"
   ]
  },
  {
   "cell_type": "code",
   "execution_count": 41,
   "metadata": {},
   "outputs": [],
   "source": [
    "actual = test.home_value\n",
    "predicted = model.predict()"
   ]
  },
  {
   "cell_type": "code",
   "execution_count": 42,
   "metadata": {
    "scrolled": true
   },
   "outputs": [
    {
     "data": {
      "text/plain": [
       "{'r^2 -- explained variance': 0.42821389317617553,\n",
       " 'p-value for model significance': 0.0}"
      ]
     },
     "execution_count": 42,
     "metadata": {},
     "output_type": "execute_result"
    }
   ],
   "source": [
    "ev.model_significance(model)"
   ]
  },
  {
   "cell_type": "code",
   "execution_count": 43,
   "metadata": {},
   "outputs": [
    {
     "data": {
      "text/html": [
       "<table class=\"simpletable\">\n",
       "<caption>OLS Regression Results</caption>\n",
       "<tr>\n",
       "  <th>Dep. Variable:</th>       <td>home_value</td>    <th>  R-squared:         </th> <td>   0.428</td> \n",
       "</tr>\n",
       "<tr>\n",
       "  <th>Model:</th>                   <td>OLS</td>       <th>  Adj. R-squared:    </th> <td>   0.428</td> \n",
       "</tr>\n",
       "<tr>\n",
       "  <th>Method:</th>             <td>Least Squares</td>  <th>  F-statistic:       </th> <td>   1121.</td> \n",
       "</tr>\n",
       "<tr>\n",
       "  <th>Date:</th>             <td>Sun, 12 Apr 2020</td> <th>  Prob (F-statistic):</th>  <td>  0.00</td>  \n",
       "</tr>\n",
       "<tr>\n",
       "  <th>Time:</th>                 <td>15:39:12</td>     <th>  Log-Likelihood:    </th> <td> -44127.</td> \n",
       "</tr>\n",
       "<tr>\n",
       "  <th>No. Observations:</th>      <td>  2998</td>      <th>  AIC:               </th> <td>8.826e+04</td>\n",
       "</tr>\n",
       "<tr>\n",
       "  <th>Df Residuals:</th>          <td>  2995</td>      <th>  BIC:               </th> <td>8.828e+04</td>\n",
       "</tr>\n",
       "<tr>\n",
       "  <th>Df Model:</th>              <td>     2</td>      <th>                     </th>     <td> </td>    \n",
       "</tr>\n",
       "<tr>\n",
       "  <th>Covariance Type:</th>      <td>nonrobust</td>    <th>                     </th>     <td> </td>    \n",
       "</tr>\n",
       "</table>\n",
       "<table class=\"simpletable\">\n",
       "<tr>\n",
       "       <td></td>          <th>coef</th>     <th>std err</th>      <th>t</th>      <th>P>|t|</th>  <th>[0.025</th>    <th>0.975]</th>  \n",
       "</tr>\n",
       "<tr>\n",
       "  <th>Intercept</th>   <td> 6.522e+04</td> <td> 3.97e+04</td> <td>    1.642</td> <td> 0.101</td> <td>-1.26e+04</td> <td> 1.43e+05</td>\n",
       "</tr>\n",
       "<tr>\n",
       "  <th>square_feet</th> <td>  580.7328</td> <td>   13.494</td> <td>   43.037</td> <td> 0.000</td> <td>  554.275</td> <td>  607.191</td>\n",
       "</tr>\n",
       "<tr>\n",
       "  <th>bedrooms</th>    <td>-1.914e+05</td> <td>  1.5e+04</td> <td>  -12.793</td> <td> 0.000</td> <td>-2.21e+05</td> <td>-1.62e+05</td>\n",
       "</tr>\n",
       "</table>\n",
       "<table class=\"simpletable\">\n",
       "<tr>\n",
       "  <th>Omnibus:</th>       <td>5134.305</td> <th>  Durbin-Watson:     </th>   <td>   2.032</td>  \n",
       "</tr>\n",
       "<tr>\n",
       "  <th>Prob(Omnibus):</th>  <td> 0.000</td>  <th>  Jarque-Bera (JB):  </th> <td>11704876.160</td>\n",
       "</tr>\n",
       "<tr>\n",
       "  <th>Skew:</th>           <td>11.221</td>  <th>  Prob(JB):          </th>   <td>    0.00</td>  \n",
       "</tr>\n",
       "<tr>\n",
       "  <th>Kurtosis:</th>       <td>308.283</td> <th>  Cond. No.          </th>   <td>8.40e+03</td>  \n",
       "</tr>\n",
       "</table><br/><br/>Warnings:<br/>[1] Standard Errors assume that the covariance matrix of the errors is correctly specified.<br/>[2] The condition number is large, 8.4e+03. This might indicate that there are<br/>strong multicollinearity or other numerical problems."
      ],
      "text/plain": [
       "<class 'statsmodels.iolib.summary.Summary'>\n",
       "\"\"\"\n",
       "                            OLS Regression Results                            \n",
       "==============================================================================\n",
       "Dep. Variable:             home_value   R-squared:                       0.428\n",
       "Model:                            OLS   Adj. R-squared:                  0.428\n",
       "Method:                 Least Squares   F-statistic:                     1121.\n",
       "Date:                Sun, 12 Apr 2020   Prob (F-statistic):               0.00\n",
       "Time:                        15:39:12   Log-Likelihood:                -44127.\n",
       "No. Observations:                2998   AIC:                         8.826e+04\n",
       "Df Residuals:                    2995   BIC:                         8.828e+04\n",
       "Df Model:                           2                                         \n",
       "Covariance Type:            nonrobust                                         \n",
       "===============================================================================\n",
       "                  coef    std err          t      P>|t|      [0.025      0.975]\n",
       "-------------------------------------------------------------------------------\n",
       "Intercept    6.522e+04   3.97e+04      1.642      0.101   -1.26e+04    1.43e+05\n",
       "square_feet   580.7328     13.494     43.037      0.000     554.275     607.191\n",
       "bedrooms    -1.914e+05    1.5e+04    -12.793      0.000   -2.21e+05   -1.62e+05\n",
       "==============================================================================\n",
       "Omnibus:                     5134.305   Durbin-Watson:                   2.032\n",
       "Prob(Omnibus):                  0.000   Jarque-Bera (JB):         11704876.160\n",
       "Skew:                          11.221   Prob(JB):                         0.00\n",
       "Kurtosis:                     308.283   Cond. No.                     8.40e+03\n",
       "==============================================================================\n",
       "\n",
       "Warnings:\n",
       "[1] Standard Errors assume that the covariance matrix of the errors is correctly specified.\n",
       "[2] The condition number is large, 8.4e+03. This might indicate that there are\n",
       "strong multicollinearity or other numerical problems.\n",
       "\"\"\""
      ]
     },
     "execution_count": 43,
     "metadata": {},
     "output_type": "execute_result"
    }
   ],
   "source": [
    "model.summary()"
   ]
  },
  {
   "cell_type": "markdown",
   "metadata": {},
   "source": [
    "---\n",
    "### Additional Models"
   ]
  },
  {
   "cell_type": "code",
   "execution_count": 44,
   "metadata": {},
   "outputs": [
    {
     "data": {
      "text/html": [
       "<div>\n",
       "<style scoped>\n",
       "    .dataframe tbody tr th:only-of-type {\n",
       "        vertical-align: middle;\n",
       "    }\n",
       "\n",
       "    .dataframe tbody tr th {\n",
       "        vertical-align: top;\n",
       "    }\n",
       "\n",
       "    .dataframe thead th {\n",
       "        text-align: right;\n",
       "    }\n",
       "</style>\n",
       "<table border=\"1\" class=\"dataframe\">\n",
       "  <thead>\n",
       "    <tr style=\"text-align: right;\">\n",
       "      <th></th>\n",
       "      <th>actual_home_value</th>\n",
       "      <th>baseline_home_value</th>\n",
       "      <th>home_value ~ square_feet + bedrooms + bedrooms</th>\n",
       "      <th>home_value ~ square_feet</th>\n",
       "    </tr>\n",
       "  </thead>\n",
       "  <tbody>\n",
       "    <tr>\n",
       "      <th>14440</th>\n",
       "      <td>100794.000</td>\n",
       "      <td>387093.000</td>\n",
       "      <td>316618.996</td>\n",
       "      <td>307607.662</td>\n",
       "    </tr>\n",
       "    <tr>\n",
       "      <th>6848</th>\n",
       "      <td>270789.000</td>\n",
       "      <td>387093.000</td>\n",
       "      <td>113190.188</td>\n",
       "      <td>47210.750</td>\n",
       "    </tr>\n",
       "    <tr>\n",
       "      <th>14624</th>\n",
       "      <td>238358.000</td>\n",
       "      <td>387093.000</td>\n",
       "      <td>503913.254</td>\n",
       "      <td>484798.276</td>\n",
       "    </tr>\n",
       "    <tr>\n",
       "      <th>10263</th>\n",
       "      <td>365558.000</td>\n",
       "      <td>387093.000</td>\n",
       "      <td>310619.601</td>\n",
       "      <td>431339.307</td>\n",
       "    </tr>\n",
       "    <tr>\n",
       "      <th>4870</th>\n",
       "      <td>70667.000</td>\n",
       "      <td>387093.000</td>\n",
       "      <td>411405.384</td>\n",
       "      <td>397280.771</td>\n",
       "    </tr>\n",
       "  </tbody>\n",
       "</table>\n",
       "</div>"
      ],
      "text/plain": [
       "       actual_home_value  baseline_home_value  \\\n",
       "14440         100794.000           387093.000   \n",
       "6848          270789.000           387093.000   \n",
       "14624         238358.000           387093.000   \n",
       "10263         365558.000           387093.000   \n",
       "4870           70667.000           387093.000   \n",
       "\n",
       "       home_value ~ square_feet + bedrooms + bedrooms  \\\n",
       "14440                                      316618.996   \n",
       "6848                                       113190.188   \n",
       "14624                                      503913.254   \n",
       "10263                                      310619.601   \n",
       "4870                                       411405.384   \n",
       "\n",
       "       home_value ~ square_feet  \n",
       "14440                307607.662  \n",
       "6848                  47210.750  \n",
       "14624                484798.276  \n",
       "10263                431339.307  \n",
       "4870                 397280.771  "
      ]
     },
     "execution_count": 44,
     "metadata": {},
     "output_type": "execute_result"
    }
   ],
   "source": [
    "# feature\n",
    "X = train[[\"square_feet\"]]\n",
    "# target\n",
    "y = train.home_value\n",
    "\n",
    "# 1. Make the model\n",
    "lm = sklearn.linear_model.LinearRegression()\n",
    "# 2. Fit the model\n",
    "lm.fit(X, y)\n",
    "# 3. Use the model\n",
    "predictions[\"home_value ~ square_feet\"] = lm.predict(X)\n",
    "predictions.head()"
   ]
  },
  {
   "cell_type": "code",
   "execution_count": 45,
   "metadata": {
    "scrolled": false
   },
   "outputs": [
    {
     "data": {
      "image/png": "[encoded data removed]",
      "text/plain": [
       "<Figure size 1152x576 with 1 Axes>"
      ]
     },
     "metadata": {
      "needs_background": "light"
     },
     "output_type": "display_data"
    }
   ],
   "source": [
    "plt.figure(figsize=(16, 8))\n",
    "ev.plot_residuals(predictions.actual_home_value, predictions[\"home_value ~ square_feet\"])\n",
    "plt.ticklabel_format(axis=\"both\", style=\"plain\")\n",
    "plt.show()"
   ]
  },
  {
   "cell_type": "code",
   "execution_count": 46,
   "metadata": {},
   "outputs": [
    {
     "data": {
      "text/plain": [
       "SSE    3973079860291705.000\n",
       "ESS    2165782278696725.000\n",
       "TSS    6138862138988430.000\n",
       "MSE        331338492226.812\n",
       "RMSE             575620.094\n",
       "dtype: float64"
      ]
     },
     "execution_count": 46,
     "metadata": {},
     "output_type": "execute_result"
    }
   ],
   "source": [
    "ev.regression_errors(predictions.actual_home_value, predictions[\"home_value ~ square_feet\"], predictions)"
   ]
  },
  {
   "cell_type": "code",
   "execution_count": 47,
   "metadata": {},
   "outputs": [
    {
     "data": {
      "text/plain": [
       "SSE_baseline    6415730366586437.000\n",
       "MSE_baseline        535045481326.531\n",
       "RMSE_baseline             731468.032\n",
       "dtype: float64"
      ]
     },
     "execution_count": 47,
     "metadata": {},
     "output_type": "execute_result"
    }
   ],
   "source": [
    "ev.baseline_errors(predictions.actual_home_value, predictions.baseline_home_value, predictions)"
   ]
  },
  {
   "cell_type": "code",
   "execution_count": 48,
   "metadata": {},
   "outputs": [
    {
     "name": "stdout",
     "output_type": "stream",
     "text": [
      "Model performs better than baseline\n"
     ]
    }
   ],
   "source": [
    "ev.better_than_baseline(predictions.actual_home_value, predictions[\"home_value ~ square_feet\"], predictions.baseline_home_value, predictions)"
   ]
  },
  {
   "cell_type": "code",
   "execution_count": 49,
   "metadata": {},
   "outputs": [
    {
     "data": {
      "text/plain": [
       "actual_home_value                                     0.000\n",
       "baseline_home_value                              731468.032\n",
       "home_value ~ square_feet + bedrooms + bedrooms   567513.243\n",
       "home_value ~ square_feet                         575620.094\n",
       "dtype: float64"
      ]
     },
     "execution_count": 49,
     "metadata": {},
     "output_type": "execute_result"
    }
   ],
   "source": [
    "predictions.apply(lambda c: math.sqrt(sklearn.metrics.mean_squared_error(predictions.actual_home_value, c)))"
   ]
  },
  {
   "cell_type": "code",
   "execution_count": 50,
   "metadata": {},
   "outputs": [
    {
     "data": {
      "image/png": "[encoded data removed]",
      "text/plain": [
       "<Figure size 1152x576 with 1 Axes>"
      ]
     },
     "metadata": {
      "needs_background": "light"
     },
     "output_type": "display_data"
    }
   ],
   "source": [
    "plt.figure(figsize=(16, 8))\n",
    "sns.scatterplot(x=predictions.actual_home_value, y=predictions[\"home_value ~ square_feet\"], label=\"home_value ~ square_feet\")\n",
    "plt.ticklabel_format(axis=\"both\", style=\"plain\")\n",
    "plt.show()"
   ]
  },
  {
   "cell_type": "markdown",
   "metadata": {},
   "source": [
    "---"
   ]
  },
  {
   "cell_type": "code",
   "execution_count": 51,
   "metadata": {},
   "outputs": [
    {
     "data": {
      "text/html": [
       "<div>\n",
       "<style scoped>\n",
       "    .dataframe tbody tr th:only-of-type {\n",
       "        vertical-align: middle;\n",
       "    }\n",
       "\n",
       "    .dataframe tbody tr th {\n",
       "        vertical-align: top;\n",
       "    }\n",
       "\n",
       "    .dataframe thead th {\n",
       "        text-align: right;\n",
       "    }\n",
       "</style>\n",
       "<table border=\"1\" class=\"dataframe\">\n",
       "  <thead>\n",
       "    <tr style=\"text-align: right;\">\n",
       "      <th></th>\n",
       "      <th>actual_home_value</th>\n",
       "      <th>baseline_home_value</th>\n",
       "      <th>home_value ~ square_feet + bedrooms + bedrooms</th>\n",
       "      <th>home_value ~ square_feet</th>\n",
       "      <th>home_value ~ bedrooms</th>\n",
       "    </tr>\n",
       "  </thead>\n",
       "  <tbody>\n",
       "    <tr>\n",
       "      <th>14440</th>\n",
       "      <td>100794.000</td>\n",
       "      <td>387093.000</td>\n",
       "      <td>316618.996</td>\n",
       "      <td>307607.662</td>\n",
       "      <td>471002.986</td>\n",
       "    </tr>\n",
       "    <tr>\n",
       "      <th>6848</th>\n",
       "      <td>270789.000</td>\n",
       "      <td>387093.000</td>\n",
       "      <td>113190.188</td>\n",
       "      <td>47210.750</td>\n",
       "      <td>258084.923</td>\n",
       "    </tr>\n",
       "    <tr>\n",
       "      <th>14624</th>\n",
       "      <td>238358.000</td>\n",
       "      <td>387093.000</td>\n",
       "      <td>503913.254</td>\n",
       "      <td>484798.276</td>\n",
       "      <td>471002.986</td>\n",
       "    </tr>\n",
       "    <tr>\n",
       "      <th>10263</th>\n",
       "      <td>365558.000</td>\n",
       "      <td>387093.000</td>\n",
       "      <td>310619.601</td>\n",
       "      <td>431339.307</td>\n",
       "      <td>683921.049</td>\n",
       "    </tr>\n",
       "    <tr>\n",
       "      <th>4870</th>\n",
       "      <td>70667.000</td>\n",
       "      <td>387093.000</td>\n",
       "      <td>411405.384</td>\n",
       "      <td>397280.771</td>\n",
       "      <td>471002.986</td>\n",
       "    </tr>\n",
       "  </tbody>\n",
       "</table>\n",
       "</div>"
      ],
      "text/plain": [
       "       actual_home_value  baseline_home_value  \\\n",
       "14440         100794.000           387093.000   \n",
       "6848          270789.000           387093.000   \n",
       "14624         238358.000           387093.000   \n",
       "10263         365558.000           387093.000   \n",
       "4870           70667.000           387093.000   \n",
       "\n",
       "       home_value ~ square_feet + bedrooms + bedrooms  \\\n",
       "14440                                      316618.996   \n",
       "6848                                       113190.188   \n",
       "14624                                      503913.254   \n",
       "10263                                      310619.601   \n",
       "4870                                       411405.384   \n",
       "\n",
       "       home_value ~ square_feet  home_value ~ bedrooms  \n",
       "14440                307607.662             471002.986  \n",
       "6848                  47210.750             258084.923  \n",
       "14624                484798.276             471002.986  \n",
       "10263                431339.307             683921.049  \n",
       "4870                 397280.771             471002.986  "
      ]
     },
     "execution_count": 51,
     "metadata": {},
     "output_type": "execute_result"
    }
   ],
   "source": [
    "# feature\n",
    "X = train[[\"bedrooms\"]]\n",
    "# target\n",
    "y = train.home_value\n",
    "\n",
    "# 1. Make the model\n",
    "lm = sklearn.linear_model.LinearRegression()\n",
    "# 2. Fit the model\n",
    "lm.fit(X, y)\n",
    "# 3. Use the model\n",
    "predictions[\"home_value ~ bedrooms\"] = lm.predict(X)\n",
    "predictions.head()"
   ]
  },
  {
   "cell_type": "code",
   "execution_count": 52,
   "metadata": {},
   "outputs": [
    {
     "data": {
      "image/png": "[encoded data removed]",
      "text/plain": [
       "<Figure size 1152x576 with 1 Axes>"
      ]
     },
     "metadata": {
      "needs_background": "light"
     },
     "output_type": "display_data"
    }
   ],
   "source": [
    "plt.figure(figsize=(16, 8))\n",
    "ev.plot_residuals(predictions.actual_home_value, predictions[\"home_value ~ bedrooms\"])\n",
    "plt.ticklabel_format(axis=\"both\", style=\"plain\")\n",
    "plt.show()"
   ]
  },
  {
   "cell_type": "code",
   "execution_count": 53,
   "metadata": {},
   "outputs": [
    {
     "data": {
      "text/plain": [
       "SSE    5667596190457278.000\n",
       "ESS     471265948531274.625\n",
       "TSS    6138862138988553.000\n",
       "MSE        472654173167.982\n",
       "RMSE             687498.490\n",
       "dtype: float64"
      ]
     },
     "execution_count": 53,
     "metadata": {},
     "output_type": "execute_result"
    }
   ],
   "source": [
    "ev.regression_errors(predictions.actual_home_value, predictions[\"home_value ~ bedrooms\"], predictions)"
   ]
  },
  {
   "cell_type": "code",
   "execution_count": 54,
   "metadata": {},
   "outputs": [
    {
     "name": "stdout",
     "output_type": "stream",
     "text": [
      "Model performs better than baseline\n"
     ]
    }
   ],
   "source": [
    "ev.better_than_baseline(predictions.actual_home_value, predictions[\"home_value ~ bedrooms\"], predictions.baseline_home_value, predictions)"
   ]
  },
  {
   "cell_type": "code",
   "execution_count": 55,
   "metadata": {},
   "outputs": [
    {
     "data": {
      "text/plain": [
       "actual_home_value                                     0.000\n",
       "baseline_home_value                              731468.032\n",
       "home_value ~ square_feet + bedrooms + bedrooms   567513.243\n",
       "home_value ~ square_feet                         575620.094\n",
       "home_value ~ bedrooms                            687498.490\n",
       "dtype: float64"
      ]
     },
     "execution_count": 55,
     "metadata": {},
     "output_type": "execute_result"
    }
   ],
   "source": [
    "predictions.apply(lambda c: math.sqrt(sklearn.metrics.mean_squared_error(predictions.actual_home_value, c)))"
   ]
  },
  {
   "cell_type": "markdown",
   "metadata": {},
   "source": [
    "---"
   ]
  },
  {
   "cell_type": "code",
   "execution_count": 56,
   "metadata": {
    "scrolled": false
   },
   "outputs": [
    {
     "data": {
      "text/html": [
       "<div>\n",
       "<style scoped>\n",
       "    .dataframe tbody tr th:only-of-type {\n",
       "        vertical-align: middle;\n",
       "    }\n",
       "\n",
       "    .dataframe tbody tr th {\n",
       "        vertical-align: top;\n",
       "    }\n",
       "\n",
       "    .dataframe thead th {\n",
       "        text-align: right;\n",
       "    }\n",
       "</style>\n",
       "<table border=\"1\" class=\"dataframe\">\n",
       "  <thead>\n",
       "    <tr style=\"text-align: right;\">\n",
       "      <th></th>\n",
       "      <th>actual_home_value</th>\n",
       "      <th>baseline_home_value</th>\n",
       "      <th>home_value ~ square_feet + bedrooms + bedrooms</th>\n",
       "      <th>home_value ~ square_feet</th>\n",
       "      <th>home_value ~ bedrooms</th>\n",
       "      <th>home_value ~ bathrooms</th>\n",
       "    </tr>\n",
       "  </thead>\n",
       "  <tbody>\n",
       "    <tr>\n",
       "      <th>14440</th>\n",
       "      <td>100794.000</td>\n",
       "      <td>387093.000</td>\n",
       "      <td>316618.996</td>\n",
       "      <td>307607.662</td>\n",
       "      <td>471002.986</td>\n",
       "      <td>418649.129</td>\n",
       "    </tr>\n",
       "    <tr>\n",
       "      <th>6848</th>\n",
       "      <td>270789.000</td>\n",
       "      <td>387093.000</td>\n",
       "      <td>113190.188</td>\n",
       "      <td>47210.750</td>\n",
       "      <td>258084.923</td>\n",
       "      <td>54910.879</td>\n",
       "    </tr>\n",
       "    <tr>\n",
       "      <th>14624</th>\n",
       "      <td>238358.000</td>\n",
       "      <td>387093.000</td>\n",
       "      <td>503913.254</td>\n",
       "      <td>484798.276</td>\n",
       "      <td>471002.986</td>\n",
       "      <td>418649.129</td>\n",
       "    </tr>\n",
       "    <tr>\n",
       "      <th>10263</th>\n",
       "      <td>365558.000</td>\n",
       "      <td>387093.000</td>\n",
       "      <td>310619.601</td>\n",
       "      <td>431339.307</td>\n",
       "      <td>683921.049</td>\n",
       "      <td>418649.129</td>\n",
       "    </tr>\n",
       "    <tr>\n",
       "      <th>4870</th>\n",
       "      <td>70667.000</td>\n",
       "      <td>387093.000</td>\n",
       "      <td>411405.384</td>\n",
       "      <td>397280.771</td>\n",
       "      <td>471002.986</td>\n",
       "      <td>418649.129</td>\n",
       "    </tr>\n",
       "  </tbody>\n",
       "</table>\n",
       "</div>"
      ],
      "text/plain": [
       "       actual_home_value  baseline_home_value  \\\n",
       "14440         100794.000           387093.000   \n",
       "6848          270789.000           387093.000   \n",
       "14624         238358.000           387093.000   \n",
       "10263         365558.000           387093.000   \n",
       "4870           70667.000           387093.000   \n",
       "\n",
       "       home_value ~ square_feet + bedrooms + bedrooms  \\\n",
       "14440                                      316618.996   \n",
       "6848                                       113190.188   \n",
       "14624                                      503913.254   \n",
       "10263                                      310619.601   \n",
       "4870                                       411405.384   \n",
       "\n",
       "       home_value ~ square_feet  home_value ~ bedrooms  home_value ~ bathrooms  \n",
       "14440                307607.662             471002.986              418649.129  \n",
       "6848                  47210.750             258084.923               54910.879  \n",
       "14624                484798.276             471002.986              418649.129  \n",
       "10263                431339.307             683921.049              418649.129  \n",
       "4870                 397280.771             471002.986              418649.129  "
      ]
     },
     "execution_count": 56,
     "metadata": {},
     "output_type": "execute_result"
    }
   ],
   "source": [
    "# feature\n",
    "X = train[[\"bathrooms\"]]\n",
    "# target\n",
    "y = train.home_value\n",
    "\n",
    "# 1. Make the model\n",
    "lm = sklearn.linear_model.LinearRegression()\n",
    "# 2. Fit the model\n",
    "lm.fit(X, y)\n",
    "# 3. Use the model\n",
    "predictions[\"home_value ~ bathrooms\"] = lm.predict(X)\n",
    "predictions.head()"
   ]
  },
  {
   "cell_type": "code",
   "execution_count": 57,
   "metadata": {},
   "outputs": [
    {
     "data": {
      "image/png": "[encoded data removed]",
      "text/plain": [
       "<Figure size 1152x576 with 1 Axes>"
      ]
     },
     "metadata": {
      "needs_background": "light"
     },
     "output_type": "display_data"
    }
   ],
   "source": [
    "plt.figure(figsize=(16, 8))\n",
    "ev.plot_residuals(predictions.actual_home_value, predictions[\"home_value ~ bathrooms\"])\n",
    "plt.ticklabel_format(axis=\"both\", style=\"plain\")\n",
    "plt.show()"
   ]
  },
  {
   "cell_type": "code",
   "execution_count": 58,
   "metadata": {},
   "outputs": [
    {
     "data": {
      "text/plain": [
       "SSE    4513122674505799.000\n",
       "ESS    1625739464482568.250\n",
       "TSS    6138862138988367.000\n",
       "MSE        376375838087.382\n",
       "RMSE             613494.774\n",
       "dtype: float64"
      ]
     },
     "execution_count": 58,
     "metadata": {},
     "output_type": "execute_result"
    }
   ],
   "source": [
    "ev.regression_errors(predictions.actual_home_value, predictions[\"home_value ~ bathrooms\"], predictions)"
   ]
  },
  {
   "cell_type": "code",
   "execution_count": 59,
   "metadata": {},
   "outputs": [
    {
     "name": "stdout",
     "output_type": "stream",
     "text": [
      "Model performs better than baseline\n"
     ]
    }
   ],
   "source": [
    "ev.better_than_baseline(predictions.actual_home_value, predictions[\"home_value ~ bathrooms\"], predictions.baseline_home_value, predictions)"
   ]
  },
  {
   "cell_type": "code",
   "execution_count": 60,
   "metadata": {},
   "outputs": [
    {
     "data": {
      "text/plain": [
       "actual_home_value                                     0.000\n",
       "baseline_home_value                              731468.032\n",
       "home_value ~ square_feet + bedrooms + bedrooms   567513.243\n",
       "home_value ~ square_feet                         575620.094\n",
       "home_value ~ bedrooms                            687498.490\n",
       "home_value ~ bathrooms                           613494.774\n",
       "dtype: float64"
      ]
     },
     "execution_count": 60,
     "metadata": {},
     "output_type": "execute_result"
    }
   ],
   "source": [
    "predictions.apply(lambda c: math.sqrt(sklearn.metrics.mean_squared_error(predictions.actual_home_value, c)))"
   ]
  },
  {
   "cell_type": "code",
   "execution_count": null,
   "metadata": {},
   "outputs": [],
   "source": []
  }
 ],
 "metadata": {
  "kernelspec": {
   "display_name": "Python 3",
   "language": "python",
   "name": "python3"
  },
  "language_info": {
   "codemirror_mode": {
    "name": "ipython",
    "version": 3
   },
   "file_extension": ".py",
   "mimetype": "text/x-python",
   "name": "python",
   "nbconvert_exporter": "python",
   "pygments_lexer": "ipython3",
   "version": "3.7.4"
  }
 },
 "nbformat": 4,
 "nbformat_minor": 2
}
